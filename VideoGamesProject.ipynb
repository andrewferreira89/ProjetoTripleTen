{
 "cells": [
  {
   "cell_type": "markdown",
   "id": "4c83c6e5",
   "metadata": {},
   "source": [
    "# Game Sales Analysis: Global Market Trends and Insights"
   ]
  },
  {
   "cell_type": "markdown",
   "id": "bc404794",
   "metadata": {},
   "source": [
    "In this project we will analyse patterns that can help us identify whether a particular game is successful or not in the video game market.\n",
    "\n",
    "This pattern analysis may be based on several factors such as sales, popularity or even criticism.\n",
    "\n",
    "With this it will be possible to have valuable perceptions to assist video game companies in making strategic decisions.\n",
    "\n",
    "First we will load the libraries that will be necessary for our study and later we will load our data and analyse them."
   ]
  },
  {
   "cell_type": "markdown",
   "id": "8ede69b4",
   "metadata": {},
   "source": [
    "# 1. Initiation"
   ]
  },
  {
   "cell_type": "code",
   "execution_count": 14,
   "id": "13d66e75",
   "metadata": {},
   "outputs": [],
   "source": [
    "#Loading all the necessary libraries\n",
    "\n",
    "import pandas as pdAndrew\n",
    "import matplotlib.pyplot as plt\n",
    "import numpy as  np\n",
    "from scipy import stats as st\n",
    "import seaborn as sns\n",
    "import pandas as pd"
   ]
  },
  {
   "cell_type": "markdown",
   "id": "c63ef7d9",
   "metadata": {},
   "source": [
    "# 1.1 Loading and exploring the data"
   ]
  },
  {
   "cell_type": "code",
   "execution_count": 15,
   "id": "ed0fdc62",
   "metadata": {},
   "outputs": [],
   "source": [
    "#Loading the data\n",
    "df = pd.read_csv('/Users/andrewferreira/Downloads/games.csv')\n",
    "#df = pd.read_csv('https://practicum-content.s3.us-west-1.amazonaws.com/datasets/games.csv')"
   ]
  },
  {
   "cell_type": "code",
   "execution_count": 16,
   "id": "81165da2",
   "metadata": {},
   "outputs": [
    {
     "data": {
      "text/html": [
       "<div>\n",
       "<style scoped>\n",
       "    .dataframe tbody tr th:only-of-type {\n",
       "        vertical-align: middle;\n",
       "    }\n",
       "\n",
       "    .dataframe tbody tr th {\n",
       "        vertical-align: top;\n",
       "    }\n",
       "\n",
       "    .dataframe thead th {\n",
       "        text-align: right;\n",
       "    }\n",
       "</style>\n",
       "<table border=\"1\" class=\"dataframe\">\n",
       "  <thead>\n",
       "    <tr style=\"text-align: right;\">\n",
       "      <th></th>\n",
       "      <th>Name</th>\n",
       "      <th>Platform</th>\n",
       "      <th>Year_of_Release</th>\n",
       "      <th>Genre</th>\n",
       "      <th>NA_sales</th>\n",
       "      <th>EU_sales</th>\n",
       "      <th>JP_sales</th>\n",
       "      <th>Other_sales</th>\n",
       "      <th>Critic_Score</th>\n",
       "      <th>User_Score</th>\n",
       "      <th>Rating</th>\n",
       "    </tr>\n",
       "  </thead>\n",
       "  <tbody>\n",
       "    <tr>\n",
       "      <th>0</th>\n",
       "      <td>Wii Sports</td>\n",
       "      <td>Wii</td>\n",
       "      <td>2006.0</td>\n",
       "      <td>Sports</td>\n",
       "      <td>41.36</td>\n",
       "      <td>28.96</td>\n",
       "      <td>3.77</td>\n",
       "      <td>8.45</td>\n",
       "      <td>76.0</td>\n",
       "      <td>8</td>\n",
       "      <td>E</td>\n",
       "    </tr>\n",
       "    <tr>\n",
       "      <th>1</th>\n",
       "      <td>Super Mario Bros.</td>\n",
       "      <td>NES</td>\n",
       "      <td>1985.0</td>\n",
       "      <td>Platform</td>\n",
       "      <td>29.08</td>\n",
       "      <td>3.58</td>\n",
       "      <td>6.81</td>\n",
       "      <td>0.77</td>\n",
       "      <td>NaN</td>\n",
       "      <td>NaN</td>\n",
       "      <td>NaN</td>\n",
       "    </tr>\n",
       "    <tr>\n",
       "      <th>2</th>\n",
       "      <td>Mario Kart Wii</td>\n",
       "      <td>Wii</td>\n",
       "      <td>2008.0</td>\n",
       "      <td>Racing</td>\n",
       "      <td>15.68</td>\n",
       "      <td>12.76</td>\n",
       "      <td>3.79</td>\n",
       "      <td>3.29</td>\n",
       "      <td>82.0</td>\n",
       "      <td>8.3</td>\n",
       "      <td>E</td>\n",
       "    </tr>\n",
       "    <tr>\n",
       "      <th>3</th>\n",
       "      <td>Wii Sports Resort</td>\n",
       "      <td>Wii</td>\n",
       "      <td>2009.0</td>\n",
       "      <td>Sports</td>\n",
       "      <td>15.61</td>\n",
       "      <td>10.93</td>\n",
       "      <td>3.28</td>\n",
       "      <td>2.95</td>\n",
       "      <td>80.0</td>\n",
       "      <td>8</td>\n",
       "      <td>E</td>\n",
       "    </tr>\n",
       "    <tr>\n",
       "      <th>4</th>\n",
       "      <td>Pokemon Red/Pokemon Blue</td>\n",
       "      <td>GB</td>\n",
       "      <td>1996.0</td>\n",
       "      <td>Role-Playing</td>\n",
       "      <td>11.27</td>\n",
       "      <td>8.89</td>\n",
       "      <td>10.22</td>\n",
       "      <td>1.00</td>\n",
       "      <td>NaN</td>\n",
       "      <td>NaN</td>\n",
       "      <td>NaN</td>\n",
       "    </tr>\n",
       "    <tr>\n",
       "      <th>5</th>\n",
       "      <td>Tetris</td>\n",
       "      <td>GB</td>\n",
       "      <td>1989.0</td>\n",
       "      <td>Puzzle</td>\n",
       "      <td>23.20</td>\n",
       "      <td>2.26</td>\n",
       "      <td>4.22</td>\n",
       "      <td>0.58</td>\n",
       "      <td>NaN</td>\n",
       "      <td>NaN</td>\n",
       "      <td>NaN</td>\n",
       "    </tr>\n",
       "    <tr>\n",
       "      <th>6</th>\n",
       "      <td>New Super Mario Bros.</td>\n",
       "      <td>DS</td>\n",
       "      <td>2006.0</td>\n",
       "      <td>Platform</td>\n",
       "      <td>11.28</td>\n",
       "      <td>9.14</td>\n",
       "      <td>6.50</td>\n",
       "      <td>2.88</td>\n",
       "      <td>89.0</td>\n",
       "      <td>8.5</td>\n",
       "      <td>E</td>\n",
       "    </tr>\n",
       "    <tr>\n",
       "      <th>7</th>\n",
       "      <td>Wii Play</td>\n",
       "      <td>Wii</td>\n",
       "      <td>2006.0</td>\n",
       "      <td>Misc</td>\n",
       "      <td>13.96</td>\n",
       "      <td>9.18</td>\n",
       "      <td>2.93</td>\n",
       "      <td>2.84</td>\n",
       "      <td>58.0</td>\n",
       "      <td>6.6</td>\n",
       "      <td>E</td>\n",
       "    </tr>\n",
       "    <tr>\n",
       "      <th>8</th>\n",
       "      <td>New Super Mario Bros. Wii</td>\n",
       "      <td>Wii</td>\n",
       "      <td>2009.0</td>\n",
       "      <td>Platform</td>\n",
       "      <td>14.44</td>\n",
       "      <td>6.94</td>\n",
       "      <td>4.70</td>\n",
       "      <td>2.24</td>\n",
       "      <td>87.0</td>\n",
       "      <td>8.4</td>\n",
       "      <td>E</td>\n",
       "    </tr>\n",
       "    <tr>\n",
       "      <th>9</th>\n",
       "      <td>Duck Hunt</td>\n",
       "      <td>NES</td>\n",
       "      <td>1984.0</td>\n",
       "      <td>Shooter</td>\n",
       "      <td>26.93</td>\n",
       "      <td>0.63</td>\n",
       "      <td>0.28</td>\n",
       "      <td>0.47</td>\n",
       "      <td>NaN</td>\n",
       "      <td>NaN</td>\n",
       "      <td>NaN</td>\n",
       "    </tr>\n",
       "  </tbody>\n",
       "</table>\n",
       "</div>"
      ],
      "text/plain": [
       "                        Name Platform  Year_of_Release         Genre  \\\n",
       "0                 Wii Sports      Wii           2006.0        Sports   \n",
       "1          Super Mario Bros.      NES           1985.0      Platform   \n",
       "2             Mario Kart Wii      Wii           2008.0        Racing   \n",
       "3          Wii Sports Resort      Wii           2009.0        Sports   \n",
       "4   Pokemon Red/Pokemon Blue       GB           1996.0  Role-Playing   \n",
       "5                     Tetris       GB           1989.0        Puzzle   \n",
       "6      New Super Mario Bros.       DS           2006.0      Platform   \n",
       "7                   Wii Play      Wii           2006.0          Misc   \n",
       "8  New Super Mario Bros. Wii      Wii           2009.0      Platform   \n",
       "9                  Duck Hunt      NES           1984.0       Shooter   \n",
       "\n",
       "   NA_sales  EU_sales  JP_sales  Other_sales  Critic_Score User_Score Rating  \n",
       "0     41.36     28.96      3.77         8.45          76.0          8      E  \n",
       "1     29.08      3.58      6.81         0.77           NaN        NaN    NaN  \n",
       "2     15.68     12.76      3.79         3.29          82.0        8.3      E  \n",
       "3     15.61     10.93      3.28         2.95          80.0          8      E  \n",
       "4     11.27      8.89     10.22         1.00           NaN        NaN    NaN  \n",
       "5     23.20      2.26      4.22         0.58           NaN        NaN    NaN  \n",
       "6     11.28      9.14      6.50         2.88          89.0        8.5      E  \n",
       "7     13.96      9.18      2.93         2.84          58.0        6.6      E  \n",
       "8     14.44      6.94      4.70         2.24          87.0        8.4      E  \n",
       "9     26.93      0.63      0.28         0.47           NaN        NaN    NaN  "
      ]
     },
     "execution_count": 16,
     "metadata": {},
     "output_type": "execute_result"
    }
   ],
   "source": [
    "df.head(10)"
   ]
  },
  {
   "cell_type": "code",
   "execution_count": 17,
   "id": "fb9bc976",
   "metadata": {},
   "outputs": [
    {
     "name": "stdout",
     "output_type": "stream",
     "text": [
      "<class 'pandas.core.frame.DataFrame'>\n",
      "RangeIndex: 16715 entries, 0 to 16714\n",
      "Data columns (total 11 columns):\n",
      " #   Column           Non-Null Count  Dtype  \n",
      "---  ------           --------------  -----  \n",
      " 0   Name             16713 non-null  object \n",
      " 1   Platform         16715 non-null  object \n",
      " 2   Year_of_Release  16446 non-null  float64\n",
      " 3   Genre            16713 non-null  object \n",
      " 4   NA_sales         16715 non-null  float64\n",
      " 5   EU_sales         16715 non-null  float64\n",
      " 6   JP_sales         16715 non-null  float64\n",
      " 7   Other_sales      16715 non-null  float64\n",
      " 8   Critic_Score     8137 non-null   float64\n",
      " 9   User_Score       10014 non-null  object \n",
      " 10  Rating           9949 non-null   object \n",
      "dtypes: float64(6), object(5)\n",
      "memory usage: 1.4+ MB\n"
     ]
    }
   ],
   "source": [
    "df.info()"
   ]
  },
  {
   "cell_type": "markdown",
   "id": "5eb46b23",
   "metadata": {},
   "source": [
    "In a first analysis we can see that our table contains missing data in several columns. Later on we will analyse more deeply and reflect on the best way to take care of this data.\n",
    "\n",
    "The formatting of our index contains words starting with a capital letter, we will take care of this \"problem\" in the next cell."
   ]
  },
  {
   "cell_type": "code",
   "execution_count": 18,
   "id": "124feda0",
   "metadata": {},
   "outputs": [],
   "source": [
    "#Formatting the name of the columns to lowercase\n",
    "df.columns = df.columns.str.lower()"
   ]
  },
  {
   "cell_type": "code",
   "execution_count": 19,
   "id": "f59148c8",
   "metadata": {},
   "outputs": [
    {
     "data": {
      "text/html": [
       "<div>\n",
       "<style scoped>\n",
       "    .dataframe tbody tr th:only-of-type {\n",
       "        vertical-align: middle;\n",
       "    }\n",
       "\n",
       "    .dataframe tbody tr th {\n",
       "        vertical-align: top;\n",
       "    }\n",
       "\n",
       "    .dataframe thead th {\n",
       "        text-align: right;\n",
       "    }\n",
       "</style>\n",
       "<table border=\"1\" class=\"dataframe\">\n",
       "  <thead>\n",
       "    <tr style=\"text-align: right;\">\n",
       "      <th></th>\n",
       "      <th>name</th>\n",
       "      <th>platform</th>\n",
       "      <th>year_of_release</th>\n",
       "      <th>genre</th>\n",
       "      <th>na_sales</th>\n",
       "      <th>eu_sales</th>\n",
       "      <th>jp_sales</th>\n",
       "      <th>other_sales</th>\n",
       "      <th>critic_score</th>\n",
       "      <th>user_score</th>\n",
       "      <th>rating</th>\n",
       "    </tr>\n",
       "  </thead>\n",
       "  <tbody>\n",
       "    <tr>\n",
       "      <th>0</th>\n",
       "      <td>Wii Sports</td>\n",
       "      <td>Wii</td>\n",
       "      <td>2006.0</td>\n",
       "      <td>Sports</td>\n",
       "      <td>41.36</td>\n",
       "      <td>28.96</td>\n",
       "      <td>3.77</td>\n",
       "      <td>8.45</td>\n",
       "      <td>76.0</td>\n",
       "      <td>8</td>\n",
       "      <td>E</td>\n",
       "    </tr>\n",
       "    <tr>\n",
       "      <th>1</th>\n",
       "      <td>Super Mario Bros.</td>\n",
       "      <td>NES</td>\n",
       "      <td>1985.0</td>\n",
       "      <td>Platform</td>\n",
       "      <td>29.08</td>\n",
       "      <td>3.58</td>\n",
       "      <td>6.81</td>\n",
       "      <td>0.77</td>\n",
       "      <td>NaN</td>\n",
       "      <td>NaN</td>\n",
       "      <td>NaN</td>\n",
       "    </tr>\n",
       "    <tr>\n",
       "      <th>2</th>\n",
       "      <td>Mario Kart Wii</td>\n",
       "      <td>Wii</td>\n",
       "      <td>2008.0</td>\n",
       "      <td>Racing</td>\n",
       "      <td>15.68</td>\n",
       "      <td>12.76</td>\n",
       "      <td>3.79</td>\n",
       "      <td>3.29</td>\n",
       "      <td>82.0</td>\n",
       "      <td>8.3</td>\n",
       "      <td>E</td>\n",
       "    </tr>\n",
       "    <tr>\n",
       "      <th>3</th>\n",
       "      <td>Wii Sports Resort</td>\n",
       "      <td>Wii</td>\n",
       "      <td>2009.0</td>\n",
       "      <td>Sports</td>\n",
       "      <td>15.61</td>\n",
       "      <td>10.93</td>\n",
       "      <td>3.28</td>\n",
       "      <td>2.95</td>\n",
       "      <td>80.0</td>\n",
       "      <td>8</td>\n",
       "      <td>E</td>\n",
       "    </tr>\n",
       "    <tr>\n",
       "      <th>4</th>\n",
       "      <td>Pokemon Red/Pokemon Blue</td>\n",
       "      <td>GB</td>\n",
       "      <td>1996.0</td>\n",
       "      <td>Role-Playing</td>\n",
       "      <td>11.27</td>\n",
       "      <td>8.89</td>\n",
       "      <td>10.22</td>\n",
       "      <td>1.00</td>\n",
       "      <td>NaN</td>\n",
       "      <td>NaN</td>\n",
       "      <td>NaN</td>\n",
       "    </tr>\n",
       "  </tbody>\n",
       "</table>\n",
       "</div>"
      ],
      "text/plain": [
       "                       name platform  year_of_release         genre  na_sales  \\\n",
       "0                Wii Sports      Wii           2006.0        Sports     41.36   \n",
       "1         Super Mario Bros.      NES           1985.0      Platform     29.08   \n",
       "2            Mario Kart Wii      Wii           2008.0        Racing     15.68   \n",
       "3         Wii Sports Resort      Wii           2009.0        Sports     15.61   \n",
       "4  Pokemon Red/Pokemon Blue       GB           1996.0  Role-Playing     11.27   \n",
       "\n",
       "   eu_sales  jp_sales  other_sales  critic_score user_score rating  \n",
       "0     28.96      3.77         8.45          76.0          8      E  \n",
       "1      3.58      6.81         0.77           NaN        NaN    NaN  \n",
       "2     12.76      3.79         3.29          82.0        8.3      E  \n",
       "3     10.93      3.28         2.95          80.0          8      E  \n",
       "4      8.89     10.22         1.00           NaN        NaN    NaN  "
      ]
     },
     "execution_count": 19,
     "metadata": {},
     "output_type": "execute_result"
    }
   ],
   "source": [
    "#Check if it worked\n",
    "df.head()"
   ]
  },
  {
   "cell_type": "markdown",
   "id": "63d3e27b",
   "metadata": {},
   "source": [
    "# 1.2 Checking and taking care of missing values"
   ]
  },
  {
   "cell_type": "markdown",
   "id": "a5e2c2a5",
   "metadata": {},
   "source": [
    "As mentioned earlier, our table contains several missing values. This topic will serve exactly to analyse and take care of these values."
   ]
  },
  {
   "cell_type": "code",
   "execution_count": 20,
   "id": "ecf0e628",
   "metadata": {},
   "outputs": [
    {
     "data": {
      "text/plain": [
       "name                  2\n",
       "platform              0\n",
       "year_of_release     269\n",
       "genre                 2\n",
       "na_sales              0\n",
       "eu_sales              0\n",
       "jp_sales              0\n",
       "other_sales           0\n",
       "critic_score       8578\n",
       "user_score         6701\n",
       "rating             6766\n",
       "dtype: int64"
      ]
     },
     "execution_count": 20,
     "metadata": {},
     "output_type": "execute_result"
    }
   ],
   "source": [
    "df.isna().sum()"
   ]
  },
  {
   "cell_type": "markdown",
   "id": "abfb522b",
   "metadata": {},
   "source": [
    "There are then missing values in the column 'name', 'year_of_release','critic_score','user_score' and 'rating'.\n",
    "\n",
    "Each of the cases will be a single case, so the replacement of values will require different methods for each of the columns.\n",
    "\n",
    "- In the column 'name', as the values are almost null, we could have two options, either drop it or replace it with an unknown name. As I don't know if these values will be useful to me later, I will substitute both values for 'Unknown'\n",
    "\n",
    "- In the 'year_of_release' column the total missing values is already higher, but as in name, we will choose to replace these values with 0. I don't think there's a need to do a drop.\n",
    "\n",
    "- In the first instance in 'critic_score', I thought of replacing the null values with the mean or median, but reflecting a little more I came to the conclusion that it would not make sense because it would affect my study later. As each game is different, the criticism should not be based on the average or median of other games.\n",
    "\n",
    "- A little like in 'critic_score', the 'user_score' column will also not change in the substitution of null values. Note that this column contains a 'TBD' value, that is, they are values that do not yet contain a note from the users. I will replace these values with null value and make a dropna so as not to affect future analyses.\n",
    "\n",
    "- There is a very large relationship between the 'rating' column and the 'genre' column. I will create a function that relates data from these two columns to make a substitution of the null values in the 'rating' column. Possibly there will be some change in classification in some games but these values will be minimal and in such a large database will not influence our study much."
   ]
  },
  {
   "cell_type": "code",
   "execution_count": 21,
   "id": "74545d24",
   "metadata": {},
   "outputs": [
    {
     "data": {
      "text/plain": [
       "2"
      ]
     },
     "execution_count": 21,
     "metadata": {},
     "output_type": "execute_result"
    }
   ],
   "source": [
    "df['name'].isna().sum()"
   ]
  },
  {
   "cell_type": "code",
   "execution_count": 22,
   "id": "78a68b86",
   "metadata": {},
   "outputs": [],
   "source": [
    "#Replacing values in 'name'\n",
    "df['name'] = df['name'].fillna('Unknown')"
   ]
  },
  {
   "cell_type": "code",
   "execution_count": 23,
   "id": "18ab06d2",
   "metadata": {},
   "outputs": [
    {
     "data": {
      "text/plain": [
       "name                  0\n",
       "platform              0\n",
       "year_of_release     269\n",
       "genre                 2\n",
       "na_sales              0\n",
       "eu_sales              0\n",
       "jp_sales              0\n",
       "other_sales           0\n",
       "critic_score       8578\n",
       "user_score         6701\n",
       "rating             6766\n",
       "dtype: int64"
      ]
     },
     "execution_count": 23,
     "metadata": {},
     "output_type": "execute_result"
    }
   ],
   "source": [
    "df.isna().sum()"
   ]
  },
  {
   "cell_type": "code",
   "execution_count": 24,
   "id": "f2f75b7c",
   "metadata": {},
   "outputs": [
    {
     "data": {
      "text/plain": [
       "269"
      ]
     },
     "execution_count": 24,
     "metadata": {},
     "output_type": "execute_result"
    }
   ],
   "source": [
    "df['year_of_release'].isna().sum()"
   ]
  },
  {
   "cell_type": "code",
   "execution_count": 25,
   "id": "ce1752ff",
   "metadata": {},
   "outputs": [],
   "source": [
    "#susbtituting missing values in 'year_of_release'\n",
    "df['year_of_release'] = df['year_of_release'].fillna(0)"
   ]
  },
  {
   "cell_type": "code",
   "execution_count": 26,
   "id": "a2524f35",
   "metadata": {},
   "outputs": [
    {
     "data": {
      "text/plain": [
       "0"
      ]
     },
     "execution_count": 26,
     "metadata": {},
     "output_type": "execute_result"
    }
   ],
   "source": [
    "df['year_of_release'].isna().sum()"
   ]
  },
  {
   "cell_type": "code",
   "execution_count": 27,
   "id": "736049a5",
   "metadata": {},
   "outputs": [
    {
     "data": {
      "text/plain": [
       "8578"
      ]
     },
     "execution_count": 27,
     "metadata": {},
     "output_type": "execute_result"
    }
   ],
   "source": [
    "#Checking missing values in 'critic_score\n",
    "df['critic_score'].isna().sum()"
   ]
  },
  {
   "cell_type": "code",
   "execution_count": 28,
   "id": "a748ba56",
   "metadata": {},
   "outputs": [
    {
     "data": {
      "text/plain": [
       "6701"
      ]
     },
     "execution_count": 28,
     "metadata": {},
     "output_type": "execute_result"
    }
   ],
   "source": [
    "df['user_score'].isna().sum()"
   ]
  },
  {
   "cell_type": "code",
   "execution_count": 29,
   "id": "ab6dd295",
   "metadata": {},
   "outputs": [
    {
     "data": {
      "text/plain": [
       "array(['8', nan, '8.3', '8.5', '6.6', '8.4', '8.6', '7.7', '6.3', '7.4',\n",
       "       '8.2', '9', '7.9', '8.1', '8.7', '7.1', '3.4', '5.3', '4.8', '3.2',\n",
       "       '8.9', '6.4', '7.8', '7.5', '2.6', '7.2', '9.2', '7', '7.3', '4.3',\n",
       "       '7.6', '5.7', '5', '9.1', '6.5', 'tbd', '8.8', '6.9', '9.4', '6.8',\n",
       "       '6.1', '6.7', '5.4', '4', '4.9', '4.5', '9.3', '6.2', '4.2', '6',\n",
       "       '3.7', '4.1', '5.8', '5.6', '5.5', '4.4', '4.6', '5.9', '3.9',\n",
       "       '3.1', '2.9', '5.2', '3.3', '4.7', '5.1', '3.5', '2.5', '1.9', '3',\n",
       "       '2.7', '2.2', '2', '9.5', '2.1', '3.6', '2.8', '1.8', '3.8', '0',\n",
       "       '1.6', '9.6', '2.4', '1.7', '1.1', '0.3', '1.5', '0.7', '1.2',\n",
       "       '2.3', '0.5', '1.3', '0.2', '0.6', '1.4', '0.9', '1', '9.7'],\n",
       "      dtype=object)"
      ]
     },
     "execution_count": 29,
     "metadata": {},
     "output_type": "execute_result"
    }
   ],
   "source": [
    "df['user_score'].unique()"
   ]
  },
  {
   "cell_type": "code",
   "execution_count": 30,
   "id": "d428f5ba",
   "metadata": {},
   "outputs": [],
   "source": [
    "#substituting values 'tbd' for 'nan'\n",
    "df['user_score'].replace({'tbd':np.nan}, inplace=True)"
   ]
  },
  {
   "cell_type": "code",
   "execution_count": 31,
   "id": "c8feb2aa",
   "metadata": {},
   "outputs": [
    {
     "data": {
      "text/plain": [
       "7.8    324\n",
       "8      290\n",
       "8.2    282\n",
       "8.3    254\n",
       "8.5    253\n",
       "      ... \n",
       "1.5      2\n",
       "0.3      2\n",
       "1.1      2\n",
       "0        1\n",
       "9.7      1\n",
       "Name: user_score, Length: 95, dtype: int64"
      ]
     },
     "execution_count": 31,
     "metadata": {},
     "output_type": "execute_result"
    }
   ],
   "source": [
    "df['user_score'].value_counts()"
   ]
  },
  {
   "cell_type": "code",
   "execution_count": 32,
   "id": "8c3775bc",
   "metadata": {},
   "outputs": [
    {
     "data": {
      "text/html": [
       "<div>\n",
       "<style scoped>\n",
       "    .dataframe tbody tr th:only-of-type {\n",
       "        vertical-align: middle;\n",
       "    }\n",
       "\n",
       "    .dataframe tbody tr th {\n",
       "        vertical-align: top;\n",
       "    }\n",
       "\n",
       "    .dataframe thead th {\n",
       "        text-align: right;\n",
       "    }\n",
       "</style>\n",
       "<table border=\"1\" class=\"dataframe\">\n",
       "  <thead>\n",
       "    <tr style=\"text-align: right;\">\n",
       "      <th></th>\n",
       "      <th>name</th>\n",
       "      <th>platform</th>\n",
       "      <th>year_of_release</th>\n",
       "      <th>genre</th>\n",
       "      <th>na_sales</th>\n",
       "      <th>eu_sales</th>\n",
       "      <th>jp_sales</th>\n",
       "      <th>other_sales</th>\n",
       "      <th>critic_score</th>\n",
       "      <th>user_score</th>\n",
       "      <th>rating</th>\n",
       "    </tr>\n",
       "  </thead>\n",
       "  <tbody>\n",
       "    <tr>\n",
       "      <th>0</th>\n",
       "      <td>Wii Sports</td>\n",
       "      <td>Wii</td>\n",
       "      <td>2006.0</td>\n",
       "      <td>Sports</td>\n",
       "      <td>41.36</td>\n",
       "      <td>28.96</td>\n",
       "      <td>3.77</td>\n",
       "      <td>8.45</td>\n",
       "      <td>76.0</td>\n",
       "      <td>8</td>\n",
       "      <td>E</td>\n",
       "    </tr>\n",
       "    <tr>\n",
       "      <th>2</th>\n",
       "      <td>Mario Kart Wii</td>\n",
       "      <td>Wii</td>\n",
       "      <td>2008.0</td>\n",
       "      <td>Racing</td>\n",
       "      <td>15.68</td>\n",
       "      <td>12.76</td>\n",
       "      <td>3.79</td>\n",
       "      <td>3.29</td>\n",
       "      <td>82.0</td>\n",
       "      <td>8.3</td>\n",
       "      <td>E</td>\n",
       "    </tr>\n",
       "    <tr>\n",
       "      <th>3</th>\n",
       "      <td>Wii Sports Resort</td>\n",
       "      <td>Wii</td>\n",
       "      <td>2009.0</td>\n",
       "      <td>Sports</td>\n",
       "      <td>15.61</td>\n",
       "      <td>10.93</td>\n",
       "      <td>3.28</td>\n",
       "      <td>2.95</td>\n",
       "      <td>80.0</td>\n",
       "      <td>8</td>\n",
       "      <td>E</td>\n",
       "    </tr>\n",
       "    <tr>\n",
       "      <th>6</th>\n",
       "      <td>New Super Mario Bros.</td>\n",
       "      <td>DS</td>\n",
       "      <td>2006.0</td>\n",
       "      <td>Platform</td>\n",
       "      <td>11.28</td>\n",
       "      <td>9.14</td>\n",
       "      <td>6.50</td>\n",
       "      <td>2.88</td>\n",
       "      <td>89.0</td>\n",
       "      <td>8.5</td>\n",
       "      <td>E</td>\n",
       "    </tr>\n",
       "    <tr>\n",
       "      <th>7</th>\n",
       "      <td>Wii Play</td>\n",
       "      <td>Wii</td>\n",
       "      <td>2006.0</td>\n",
       "      <td>Misc</td>\n",
       "      <td>13.96</td>\n",
       "      <td>9.18</td>\n",
       "      <td>2.93</td>\n",
       "      <td>2.84</td>\n",
       "      <td>58.0</td>\n",
       "      <td>6.6</td>\n",
       "      <td>E</td>\n",
       "    </tr>\n",
       "  </tbody>\n",
       "</table>\n",
       "</div>"
      ],
      "text/plain": [
       "                    name platform  year_of_release     genre  na_sales  \\\n",
       "0             Wii Sports      Wii           2006.0    Sports     41.36   \n",
       "2         Mario Kart Wii      Wii           2008.0    Racing     15.68   \n",
       "3      Wii Sports Resort      Wii           2009.0    Sports     15.61   \n",
       "6  New Super Mario Bros.       DS           2006.0  Platform     11.28   \n",
       "7               Wii Play      Wii           2006.0      Misc     13.96   \n",
       "\n",
       "   eu_sales  jp_sales  other_sales  critic_score user_score rating  \n",
       "0     28.96      3.77         8.45          76.0          8      E  \n",
       "2     12.76      3.79         3.29          82.0        8.3      E  \n",
       "3     10.93      3.28         2.95          80.0          8      E  \n",
       "6      9.14      6.50         2.88          89.0        8.5      E  \n",
       "7      9.18      2.93         2.84          58.0        6.6      E  "
      ]
     },
     "execution_count": 32,
     "metadata": {},
     "output_type": "execute_result"
    }
   ],
   "source": [
    "df = df.dropna(subset=['user_score'])\n",
    "df.head()"
   ]
  },
  {
   "cell_type": "code",
   "execution_count": 33,
   "id": "db615427",
   "metadata": {},
   "outputs": [
    {
     "data": {
      "text/plain": [
       "array(['Sports', 'Racing', 'Platform', 'Misc', 'Action', 'Puzzle',\n",
       "       'Shooter', 'Fighting', 'Simulation', 'Role-Playing', 'Adventure',\n",
       "       'Strategy'], dtype=object)"
      ]
     },
     "execution_count": 33,
     "metadata": {},
     "output_type": "execute_result"
    }
   ],
   "source": [
    "df['genre'].unique()"
   ]
  },
  {
   "cell_type": "code",
   "execution_count": 34,
   "id": "995a6fb8",
   "metadata": {},
   "outputs": [],
   "source": [
    "#Function that substitutes the missing values in 'genre'\n",
    "def mudar_credit(row):\n",
    "    genero = row['genre']\n",
    "    classificacao = row['rating']\n",
    "    \n",
    "    dicionario = ['Platform', 'Sports', 'Misc', 'Racing', 'Simulation', 'Puzzle']\n",
    "    \n",
    "    if genero in dicionario:\n",
    "        return 'E'\n",
    "    elif genero in ['Role-Playing', 'Fighting', 'Strategy']:\n",
    "        return 'T'\n",
    "    elif genero in ['Action', 'Shooter', 'Adventure']:\n",
    "        return 'M'\n",
    "    else:\n",
    "        return classificacao\n",
    "        "
   ]
  },
  {
   "cell_type": "code",
   "execution_count": 35,
   "id": "3a9ed11a",
   "metadata": {},
   "outputs": [
    {
     "data": {
      "text/plain": [
       "'E'"
      ]
     },
     "execution_count": 35,
     "metadata": {},
     "output_type": "execute_result"
    }
   ],
   "source": [
    "#checking if it works\n",
    "mudar_credit(df.iloc[3])"
   ]
  },
  {
   "cell_type": "code",
   "execution_count": 36,
   "id": "5c931bd0",
   "metadata": {},
   "outputs": [],
   "source": [
    "#substitute missing values\n",
    "df['rating'] = df.apply(mudar_credit, axis=1)"
   ]
  },
  {
   "cell_type": "code",
   "execution_count": 37,
   "id": "c8aa0aa9",
   "metadata": {},
   "outputs": [
    {
     "data": {
      "text/plain": [
       "0"
      ]
     },
     "execution_count": 37,
     "metadata": {},
     "output_type": "execute_result"
    }
   ],
   "source": [
    "df['rating'].isna().sum()"
   ]
  },
  {
   "cell_type": "code",
   "execution_count": 38,
   "id": "803960a0",
   "metadata": {},
   "outputs": [
    {
     "data": {
      "text/plain": [
       "name                 0\n",
       "platform             0\n",
       "year_of_release      0\n",
       "genre                0\n",
       "na_sales             0\n",
       "eu_sales             0\n",
       "jp_sales             0\n",
       "other_sales          0\n",
       "critic_score       573\n",
       "user_score           0\n",
       "rating               0\n",
       "dtype: int64"
      ]
     },
     "execution_count": 38,
     "metadata": {},
     "output_type": "execute_result"
    }
   ],
   "source": [
    "df.isna().sum()"
   ]
  },
  {
   "cell_type": "markdown",
   "id": "0aca2701",
   "metadata": {},
   "source": [
    "# 1.3 Data correction"
   ]
  },
  {
   "cell_type": "markdown",
   "id": "c4f4ccb7",
   "metadata": {},
   "source": [
    "In this topic we will replace some types of data that seem to be relevant. The year_of_release column presents a float data type, while the user_score column presents object data types. As it does not make sense to have years with decimals, we will replace this column with an integer. As user_score contains decimal values will be changed to float type."
   ]
  },
  {
   "cell_type": "code",
   "execution_count": 39,
   "id": "06c0e184",
   "metadata": {},
   "outputs": [
    {
     "data": {
      "text/plain": [
       "0        2006\n",
       "2        2008\n",
       "3        2009\n",
       "6        2006\n",
       "7        2006\n",
       "         ... \n",
       "16681    1997\n",
       "16692    2014\n",
       "16696    2011\n",
       "16702    2011\n",
       "16705    2009\n",
       "Name: year_of_release, Length: 7590, dtype: int64"
      ]
     },
     "execution_count": 39,
     "metadata": {},
     "output_type": "execute_result"
    }
   ],
   "source": [
    "df['year_of_release'] = df['year_of_release'].astype(int)\n",
    "df['year_of_release'] "
   ]
  },
  {
   "cell_type": "code",
   "execution_count": 40,
   "id": "c9c1a8dd",
   "metadata": {},
   "outputs": [
    {
     "data": {
      "text/plain": [
       "0        8.0\n",
       "2        8.3\n",
       "3        8.0\n",
       "6        8.5\n",
       "7        6.6\n",
       "        ... \n",
       "16681    8.1\n",
       "16692    7.6\n",
       "16696    5.8\n",
       "16702    7.2\n",
       "16705    5.8\n",
       "Name: user_score, Length: 7590, dtype: float64"
      ]
     },
     "execution_count": 40,
     "metadata": {},
     "output_type": "execute_result"
    }
   ],
   "source": [
    "df['user_score'] = df['user_score'].astype(float)\n",
    "df['user_score']"
   ]
  },
  {
   "cell_type": "markdown",
   "id": "1df7fd62",
   "metadata": {},
   "source": [
    "# 1.4 Total sum of regions (data enrichment)"
   ]
  },
  {
   "cell_type": "markdown",
   "id": "9e632d0e",
   "metadata": {},
   "source": [
    "We will create a 'total_sales' column that will give us the result of the sum of the sales of each game in the three regions under analysis."
   ]
  },
  {
   "cell_type": "code",
   "execution_count": 41,
   "id": "427ce6de",
   "metadata": {},
   "outputs": [],
   "source": [
    "df['total_sales'] = df['na_sales'] + df['eu_sales'] + df['jp_sales'] + df['other_sales']"
   ]
  },
  {
   "cell_type": "code",
   "execution_count": 42,
   "id": "37352a69",
   "metadata": {},
   "outputs": [
    {
     "data": {
      "text/html": [
       "<div>\n",
       "<style scoped>\n",
       "    .dataframe tbody tr th:only-of-type {\n",
       "        vertical-align: middle;\n",
       "    }\n",
       "\n",
       "    .dataframe tbody tr th {\n",
       "        vertical-align: top;\n",
       "    }\n",
       "\n",
       "    .dataframe thead th {\n",
       "        text-align: right;\n",
       "    }\n",
       "</style>\n",
       "<table border=\"1\" class=\"dataframe\">\n",
       "  <thead>\n",
       "    <tr style=\"text-align: right;\">\n",
       "      <th></th>\n",
       "      <th>name</th>\n",
       "      <th>platform</th>\n",
       "      <th>year_of_release</th>\n",
       "      <th>genre</th>\n",
       "      <th>na_sales</th>\n",
       "      <th>eu_sales</th>\n",
       "      <th>jp_sales</th>\n",
       "      <th>other_sales</th>\n",
       "      <th>critic_score</th>\n",
       "      <th>user_score</th>\n",
       "      <th>rating</th>\n",
       "      <th>total_sales</th>\n",
       "    </tr>\n",
       "  </thead>\n",
       "  <tbody>\n",
       "    <tr>\n",
       "      <th>0</th>\n",
       "      <td>Wii Sports</td>\n",
       "      <td>Wii</td>\n",
       "      <td>2006</td>\n",
       "      <td>Sports</td>\n",
       "      <td>41.36</td>\n",
       "      <td>28.96</td>\n",
       "      <td>3.77</td>\n",
       "      <td>8.45</td>\n",
       "      <td>76.0</td>\n",
       "      <td>8.0</td>\n",
       "      <td>E</td>\n",
       "      <td>82.54</td>\n",
       "    </tr>\n",
       "    <tr>\n",
       "      <th>2</th>\n",
       "      <td>Mario Kart Wii</td>\n",
       "      <td>Wii</td>\n",
       "      <td>2008</td>\n",
       "      <td>Racing</td>\n",
       "      <td>15.68</td>\n",
       "      <td>12.76</td>\n",
       "      <td>3.79</td>\n",
       "      <td>3.29</td>\n",
       "      <td>82.0</td>\n",
       "      <td>8.3</td>\n",
       "      <td>E</td>\n",
       "      <td>35.52</td>\n",
       "    </tr>\n",
       "    <tr>\n",
       "      <th>3</th>\n",
       "      <td>Wii Sports Resort</td>\n",
       "      <td>Wii</td>\n",
       "      <td>2009</td>\n",
       "      <td>Sports</td>\n",
       "      <td>15.61</td>\n",
       "      <td>10.93</td>\n",
       "      <td>3.28</td>\n",
       "      <td>2.95</td>\n",
       "      <td>80.0</td>\n",
       "      <td>8.0</td>\n",
       "      <td>E</td>\n",
       "      <td>32.77</td>\n",
       "    </tr>\n",
       "    <tr>\n",
       "      <th>6</th>\n",
       "      <td>New Super Mario Bros.</td>\n",
       "      <td>DS</td>\n",
       "      <td>2006</td>\n",
       "      <td>Platform</td>\n",
       "      <td>11.28</td>\n",
       "      <td>9.14</td>\n",
       "      <td>6.50</td>\n",
       "      <td>2.88</td>\n",
       "      <td>89.0</td>\n",
       "      <td>8.5</td>\n",
       "      <td>E</td>\n",
       "      <td>29.80</td>\n",
       "    </tr>\n",
       "    <tr>\n",
       "      <th>7</th>\n",
       "      <td>Wii Play</td>\n",
       "      <td>Wii</td>\n",
       "      <td>2006</td>\n",
       "      <td>Misc</td>\n",
       "      <td>13.96</td>\n",
       "      <td>9.18</td>\n",
       "      <td>2.93</td>\n",
       "      <td>2.84</td>\n",
       "      <td>58.0</td>\n",
       "      <td>6.6</td>\n",
       "      <td>E</td>\n",
       "      <td>28.91</td>\n",
       "    </tr>\n",
       "  </tbody>\n",
       "</table>\n",
       "</div>"
      ],
      "text/plain": [
       "                    name platform  year_of_release     genre  na_sales  \\\n",
       "0             Wii Sports      Wii             2006    Sports     41.36   \n",
       "2         Mario Kart Wii      Wii             2008    Racing     15.68   \n",
       "3      Wii Sports Resort      Wii             2009    Sports     15.61   \n",
       "6  New Super Mario Bros.       DS             2006  Platform     11.28   \n",
       "7               Wii Play      Wii             2006      Misc     13.96   \n",
       "\n",
       "   eu_sales  jp_sales  other_sales  critic_score  user_score rating  \\\n",
       "0     28.96      3.77         8.45          76.0         8.0      E   \n",
       "2     12.76      3.79         3.29          82.0         8.3      E   \n",
       "3     10.93      3.28         2.95          80.0         8.0      E   \n",
       "6      9.14      6.50         2.88          89.0         8.5      E   \n",
       "7      9.18      2.93         2.84          58.0         6.6      E   \n",
       "\n",
       "   total_sales  \n",
       "0        82.54  \n",
       "2        35.52  \n",
       "3        32.77  \n",
       "6        29.80  \n",
       "7        28.91  "
      ]
     },
     "execution_count": 42,
     "metadata": {},
     "output_type": "execute_result"
    }
   ],
   "source": [
    "df.head()"
   ]
  },
  {
   "cell_type": "markdown",
   "id": "e31bfc3e",
   "metadata": {},
   "source": [
    "# 2. Data analysis"
   ]
  },
  {
   "cell_type": "markdown",
   "id": "a656d505",
   "metadata": {},
   "source": [
    "On this topic we will check\n",
    "\n",
    "- How many games were played in different years and whether the data for each period are significant.\n",
    "\n",
    "- We will check how sales varied on different platforms and then check the distribution of sales of the platforms with the highest value in sales.\n",
    "\n",
    "- We will slice data in a year's choice and then check which platforms lead sales as well as check through a boxplot the overall value of sales per platform.\n",
    "\n",
    "- Check how user ratings affect sales of a popular platform\n",
    "\n",
    "- Compare the sale of games on different platforms\n",
    "\n",
    "- Check which genres are most profitable"
   ]
  },
  {
   "cell_type": "markdown",
   "id": "458fc3ad",
   "metadata": {},
   "source": [
    "# 2.1 Number of games relaunched each year "
   ]
  },
  {
   "cell_type": "code",
   "execution_count": 43,
   "id": "7bc70b09",
   "metadata": {},
   "outputs": [],
   "source": [
    "#Code that allows us to delete the values of year 0\n",
    "df = df[df['year_of_release'] != 0]"
   ]
  },
  {
   "cell_type": "code",
   "execution_count": 44,
   "id": "8e7396b8",
   "metadata": {},
   "outputs": [],
   "source": [
    "df_grouped = df.groupby('year_of_release').mean()"
   ]
  },
  {
   "cell_type": "code",
   "execution_count": 45,
   "id": "b892ce1a",
   "metadata": {},
   "outputs": [
    {
     "data": {
      "text/html": [
       "<div>\n",
       "<style scoped>\n",
       "    .dataframe tbody tr th:only-of-type {\n",
       "        vertical-align: middle;\n",
       "    }\n",
       "\n",
       "    .dataframe tbody tr th {\n",
       "        vertical-align: top;\n",
       "    }\n",
       "\n",
       "    .dataframe thead th {\n",
       "        text-align: right;\n",
       "    }\n",
       "</style>\n",
       "<table border=\"1\" class=\"dataframe\">\n",
       "  <thead>\n",
       "    <tr style=\"text-align: right;\">\n",
       "      <th></th>\n",
       "      <th>year_of_release</th>\n",
       "      <th>name</th>\n",
       "    </tr>\n",
       "  </thead>\n",
       "  <tbody>\n",
       "    <tr>\n",
       "      <th>0</th>\n",
       "      <td>1985</td>\n",
       "      <td>1</td>\n",
       "    </tr>\n",
       "    <tr>\n",
       "      <th>1</th>\n",
       "      <td>1988</td>\n",
       "      <td>1</td>\n",
       "    </tr>\n",
       "    <tr>\n",
       "      <th>2</th>\n",
       "      <td>1992</td>\n",
       "      <td>1</td>\n",
       "    </tr>\n",
       "    <tr>\n",
       "      <th>3</th>\n",
       "      <td>1994</td>\n",
       "      <td>1</td>\n",
       "    </tr>\n",
       "    <tr>\n",
       "      <th>4</th>\n",
       "      <td>1996</td>\n",
       "      <td>8</td>\n",
       "    </tr>\n",
       "    <tr>\n",
       "      <th>5</th>\n",
       "      <td>1997</td>\n",
       "      <td>18</td>\n",
       "    </tr>\n",
       "    <tr>\n",
       "      <th>6</th>\n",
       "      <td>1998</td>\n",
       "      <td>31</td>\n",
       "    </tr>\n",
       "    <tr>\n",
       "      <th>7</th>\n",
       "      <td>1999</td>\n",
       "      <td>31</td>\n",
       "    </tr>\n",
       "    <tr>\n",
       "      <th>8</th>\n",
       "      <td>2000</td>\n",
       "      <td>107</td>\n",
       "    </tr>\n",
       "    <tr>\n",
       "      <th>9</th>\n",
       "      <td>2001</td>\n",
       "      <td>257</td>\n",
       "    </tr>\n",
       "    <tr>\n",
       "      <th>10</th>\n",
       "      <td>2002</td>\n",
       "      <td>464</td>\n",
       "    </tr>\n",
       "    <tr>\n",
       "      <th>11</th>\n",
       "      <td>2003</td>\n",
       "      <td>516</td>\n",
       "    </tr>\n",
       "    <tr>\n",
       "      <th>12</th>\n",
       "      <td>2004</td>\n",
       "      <td>489</td>\n",
       "    </tr>\n",
       "    <tr>\n",
       "      <th>13</th>\n",
       "      <td>2005</td>\n",
       "      <td>583</td>\n",
       "    </tr>\n",
       "    <tr>\n",
       "      <th>14</th>\n",
       "      <td>2006</td>\n",
       "      <td>552</td>\n",
       "    </tr>\n",
       "    <tr>\n",
       "      <th>15</th>\n",
       "      <td>2007</td>\n",
       "      <td>629</td>\n",
       "    </tr>\n",
       "    <tr>\n",
       "      <th>16</th>\n",
       "      <td>2008</td>\n",
       "      <td>661</td>\n",
       "    </tr>\n",
       "    <tr>\n",
       "      <th>17</th>\n",
       "      <td>2009</td>\n",
       "      <td>614</td>\n",
       "    </tr>\n",
       "    <tr>\n",
       "      <th>18</th>\n",
       "      <td>2010</td>\n",
       "      <td>467</td>\n",
       "    </tr>\n",
       "    <tr>\n",
       "      <th>19</th>\n",
       "      <td>2011</td>\n",
       "      <td>501</td>\n",
       "    </tr>\n",
       "    <tr>\n",
       "      <th>20</th>\n",
       "      <td>2012</td>\n",
       "      <td>339</td>\n",
       "    </tr>\n",
       "    <tr>\n",
       "      <th>21</th>\n",
       "      <td>2013</td>\n",
       "      <td>304</td>\n",
       "    </tr>\n",
       "    <tr>\n",
       "      <th>22</th>\n",
       "      <td>2014</td>\n",
       "      <td>329</td>\n",
       "    </tr>\n",
       "    <tr>\n",
       "      <th>23</th>\n",
       "      <td>2015</td>\n",
       "      <td>297</td>\n",
       "    </tr>\n",
       "    <tr>\n",
       "      <th>24</th>\n",
       "      <td>2016</td>\n",
       "      <td>262</td>\n",
       "    </tr>\n",
       "  </tbody>\n",
       "</table>\n",
       "</div>"
      ],
      "text/plain": [
       "    year_of_release  name\n",
       "0              1985     1\n",
       "1              1988     1\n",
       "2              1992     1\n",
       "3              1994     1\n",
       "4              1996     8\n",
       "5              1997    18\n",
       "6              1998    31\n",
       "7              1999    31\n",
       "8              2000   107\n",
       "9              2001   257\n",
       "10             2002   464\n",
       "11             2003   516\n",
       "12             2004   489\n",
       "13             2005   583\n",
       "14             2006   552\n",
       "15             2007   629\n",
       "16             2008   661\n",
       "17             2009   614\n",
       "18             2010   467\n",
       "19             2011   501\n",
       "20             2012   339\n",
       "21             2013   304\n",
       "22             2014   329\n",
       "23             2015   297\n",
       "24             2016   262"
      ]
     },
     "execution_count": 45,
     "metadata": {},
     "output_type": "execute_result"
    }
   ],
   "source": [
    "contagem_jogos = df.pivot_table(index = 'year_of_release', values = 'name', aggfunc='count')\n",
    "contagem_jogos = contagem_jogos.reset_index()\n",
    "contagem_jogos"
   ]
  },
  {
   "cell_type": "markdown",
   "id": "30a81bb6",
   "metadata": {},
   "source": [
    "In the 80s and 90s still in the first generations of video games the total of games was not very significant until very close to the end of the 90s where more platforms began to be relaund, which consequently meant that there were more games.\n",
    "\n",
    "We can conclude that with some exceptions there was an exponential growth in the number of games from the beginning of the 2000s until the year 2008, where it reached its peak. While it is curious that from that same year there was a sharp decline. This decline may be due to the change of game technologies or even the cost of development. However, we cannot draw specific conclusions about why there was this decline."
   ]
  },
  {
   "cell_type": "markdown",
   "id": "a1c27f51",
   "metadata": {},
   "source": [
    "# 2.2 Sales variation on each platform"
   ]
  },
  {
   "cell_type": "code",
   "execution_count": 46,
   "id": "c90e9432",
   "metadata": {},
   "outputs": [
    {
     "data": {
      "text/html": [
       "<div>\n",
       "<style scoped>\n",
       "    .dataframe tbody tr th:only-of-type {\n",
       "        vertical-align: middle;\n",
       "    }\n",
       "\n",
       "    .dataframe tbody tr th {\n",
       "        vertical-align: top;\n",
       "    }\n",
       "\n",
       "    .dataframe thead th {\n",
       "        text-align: right;\n",
       "    }\n",
       "</style>\n",
       "<table border=\"1\" class=\"dataframe\">\n",
       "  <thead>\n",
       "    <tr style=\"text-align: right;\">\n",
       "      <th></th>\n",
       "      <th>platform</th>\n",
       "      <th>total_sales</th>\n",
       "    </tr>\n",
       "  </thead>\n",
       "  <tbody>\n",
       "    <tr>\n",
       "      <th>7</th>\n",
       "      <td>PS2</td>\n",
       "      <td>983.01</td>\n",
       "    </tr>\n",
       "    <tr>\n",
       "      <th>14</th>\n",
       "      <td>X360</td>\n",
       "      <td>888.89</td>\n",
       "    </tr>\n",
       "    <tr>\n",
       "      <th>8</th>\n",
       "      <td>PS3</td>\n",
       "      <td>829.17</td>\n",
       "    </tr>\n",
       "    <tr>\n",
       "      <th>12</th>\n",
       "      <td>Wii</td>\n",
       "      <td>696.02</td>\n",
       "    </tr>\n",
       "    <tr>\n",
       "      <th>2</th>\n",
       "      <td>DS</td>\n",
       "      <td>413.30</td>\n",
       "    </tr>\n",
       "    <tr>\n",
       "      <th>9</th>\n",
       "      <td>PS4</td>\n",
       "      <td>244.92</td>\n",
       "    </tr>\n",
       "    <tr>\n",
       "      <th>6</th>\n",
       "      <td>PS</td>\n",
       "      <td>214.45</td>\n",
       "    </tr>\n",
       "    <tr>\n",
       "      <th>15</th>\n",
       "      <td>XB</td>\n",
       "      <td>212.95</td>\n",
       "    </tr>\n",
       "    <tr>\n",
       "      <th>5</th>\n",
       "      <td>PC</td>\n",
       "      <td>202.92</td>\n",
       "    </tr>\n",
       "    <tr>\n",
       "      <th>10</th>\n",
       "      <td>PSP</td>\n",
       "      <td>195.61</td>\n",
       "    </tr>\n",
       "    <tr>\n",
       "      <th>4</th>\n",
       "      <td>GC</td>\n",
       "      <td>160.19</td>\n",
       "    </tr>\n",
       "    <tr>\n",
       "      <th>3</th>\n",
       "      <td>GBA</td>\n",
       "      <td>137.82</td>\n",
       "    </tr>\n",
       "    <tr>\n",
       "      <th>16</th>\n",
       "      <td>XOne</td>\n",
       "      <td>134.26</td>\n",
       "    </tr>\n",
       "    <tr>\n",
       "      <th>0</th>\n",
       "      <td>3DS</td>\n",
       "      <td>126.73</td>\n",
       "    </tr>\n",
       "    <tr>\n",
       "      <th>13</th>\n",
       "      <td>WiiU</td>\n",
       "      <td>67.21</td>\n",
       "    </tr>\n",
       "    <tr>\n",
       "      <th>11</th>\n",
       "      <td>PSV</td>\n",
       "      <td>34.27</td>\n",
       "    </tr>\n",
       "    <tr>\n",
       "      <th>1</th>\n",
       "      <td>DC</td>\n",
       "      <td>4.55</td>\n",
       "    </tr>\n",
       "  </tbody>\n",
       "</table>\n",
       "</div>"
      ],
      "text/plain": [
       "   platform  total_sales\n",
       "7       PS2       983.01\n",
       "14     X360       888.89\n",
       "8       PS3       829.17\n",
       "12      Wii       696.02\n",
       "2        DS       413.30\n",
       "9       PS4       244.92\n",
       "6        PS       214.45\n",
       "15       XB       212.95\n",
       "5        PC       202.92\n",
       "10      PSP       195.61\n",
       "4        GC       160.19\n",
       "3       GBA       137.82\n",
       "16     XOne       134.26\n",
       "0       3DS       126.73\n",
       "13     WiiU        67.21\n",
       "11      PSV        34.27\n",
       "1        DC         4.55"
      ]
     },
     "execution_count": 46,
     "metadata": {},
     "output_type": "execute_result"
    }
   ],
   "source": [
    "#Check the number of sales per platform\n",
    "plataforma_jogos = df.pivot_table(index = 'platform', values = 'total_sales', aggfunc='sum')\n",
    "plataforma_jogos = plataforma_jogos.reset_index().sort_values(by='total_sales', ascending=False)\n",
    "\n",
    "plataforma_jogos"
   ]
  },
  {
   "cell_type": "markdown",
   "id": "f529cb59",
   "metadata": {},
   "source": [
    "Based on total platform sales we can say that Playsation 2, Xbox 360 and Playstation 3 led the ranking of sales, were the most popular among users or that they had a great impact on the gaming industry. On the opposite side to WiiU, PSV and DC were the platforms that were less sold.\n",
    "\n",
    "It should be noted that PC despite not being a console, continues to have a signalling sales value comparing with other platforms.\n",
    "\n",
    "Next we will 'paste' on the three most popular platforms and analyse the total number of game sales per year."
   ]
  },
  {
   "cell_type": "code",
   "execution_count": 47,
   "id": "b49ba64c",
   "metadata": {},
   "outputs": [
    {
     "data": {
      "text/html": [
       "<div>\n",
       "<style scoped>\n",
       "    .dataframe tbody tr th:only-of-type {\n",
       "        vertical-align: middle;\n",
       "    }\n",
       "\n",
       "    .dataframe tbody tr th {\n",
       "        vertical-align: top;\n",
       "    }\n",
       "\n",
       "    .dataframe thead th {\n",
       "        text-align: right;\n",
       "    }\n",
       "</style>\n",
       "<table border=\"1\" class=\"dataframe\">\n",
       "  <thead>\n",
       "    <tr style=\"text-align: right;\">\n",
       "      <th></th>\n",
       "      <th>name</th>\n",
       "      <th>platform</th>\n",
       "      <th>year_of_release</th>\n",
       "      <th>genre</th>\n",
       "      <th>na_sales</th>\n",
       "      <th>eu_sales</th>\n",
       "      <th>jp_sales</th>\n",
       "      <th>other_sales</th>\n",
       "      <th>critic_score</th>\n",
       "      <th>user_score</th>\n",
       "      <th>rating</th>\n",
       "      <th>total_sales</th>\n",
       "    </tr>\n",
       "  </thead>\n",
       "  <tbody>\n",
       "    <tr>\n",
       "      <th>17</th>\n",
       "      <td>Grand Theft Auto: San Andreas</td>\n",
       "      <td>PS2</td>\n",
       "      <td>2004</td>\n",
       "      <td>Action</td>\n",
       "      <td>9.43</td>\n",
       "      <td>0.40</td>\n",
       "      <td>0.41</td>\n",
       "      <td>10.57</td>\n",
       "      <td>95.0</td>\n",
       "      <td>9.0</td>\n",
       "      <td>M</td>\n",
       "      <td>20.81</td>\n",
       "    </tr>\n",
       "    <tr>\n",
       "      <th>24</th>\n",
       "      <td>Grand Theft Auto: Vice City</td>\n",
       "      <td>PS2</td>\n",
       "      <td>2002</td>\n",
       "      <td>Action</td>\n",
       "      <td>8.41</td>\n",
       "      <td>5.49</td>\n",
       "      <td>0.47</td>\n",
       "      <td>1.78</td>\n",
       "      <td>95.0</td>\n",
       "      <td>8.7</td>\n",
       "      <td>M</td>\n",
       "      <td>16.15</td>\n",
       "    </tr>\n",
       "    <tr>\n",
       "      <th>28</th>\n",
       "      <td>Gran Turismo 3: A-Spec</td>\n",
       "      <td>PS2</td>\n",
       "      <td>2001</td>\n",
       "      <td>Racing</td>\n",
       "      <td>6.85</td>\n",
       "      <td>5.09</td>\n",
       "      <td>1.87</td>\n",
       "      <td>1.16</td>\n",
       "      <td>95.0</td>\n",
       "      <td>8.4</td>\n",
       "      <td>E</td>\n",
       "      <td>14.97</td>\n",
       "    </tr>\n",
       "    <tr>\n",
       "      <th>38</th>\n",
       "      <td>Grand Theft Auto III</td>\n",
       "      <td>PS2</td>\n",
       "      <td>2001</td>\n",
       "      <td>Action</td>\n",
       "      <td>6.99</td>\n",
       "      <td>4.51</td>\n",
       "      <td>0.30</td>\n",
       "      <td>1.30</td>\n",
       "      <td>97.0</td>\n",
       "      <td>8.5</td>\n",
       "      <td>M</td>\n",
       "      <td>13.10</td>\n",
       "    </tr>\n",
       "    <tr>\n",
       "      <th>48</th>\n",
       "      <td>Gran Turismo 4</td>\n",
       "      <td>PS2</td>\n",
       "      <td>2004</td>\n",
       "      <td>Racing</td>\n",
       "      <td>3.01</td>\n",
       "      <td>0.01</td>\n",
       "      <td>1.10</td>\n",
       "      <td>7.53</td>\n",
       "      <td>89.0</td>\n",
       "      <td>8.5</td>\n",
       "      <td>E</td>\n",
       "      <td>11.65</td>\n",
       "    </tr>\n",
       "    <tr>\n",
       "      <th>84</th>\n",
       "      <td>Final Fantasy X</td>\n",
       "      <td>PS2</td>\n",
       "      <td>2001</td>\n",
       "      <td>Role-Playing</td>\n",
       "      <td>2.91</td>\n",
       "      <td>2.07</td>\n",
       "      <td>2.73</td>\n",
       "      <td>0.33</td>\n",
       "      <td>92.0</td>\n",
       "      <td>8.7</td>\n",
       "      <td>T</td>\n",
       "      <td>8.04</td>\n",
       "    </tr>\n",
       "    <tr>\n",
       "      <th>102</th>\n",
       "      <td>Need for Speed Underground</td>\n",
       "      <td>PS2</td>\n",
       "      <td>2003</td>\n",
       "      <td>Racing</td>\n",
       "      <td>3.27</td>\n",
       "      <td>2.83</td>\n",
       "      <td>0.08</td>\n",
       "      <td>1.02</td>\n",
       "      <td>85.0</td>\n",
       "      <td>8.6</td>\n",
       "      <td>E</td>\n",
       "      <td>7.20</td>\n",
       "    </tr>\n",
       "    <tr>\n",
       "      <th>113</th>\n",
       "      <td>Need for Speed Underground 2</td>\n",
       "      <td>PS2</td>\n",
       "      <td>2004</td>\n",
       "      <td>Racing</td>\n",
       "      <td>2.71</td>\n",
       "      <td>3.02</td>\n",
       "      <td>0.08</td>\n",
       "      <td>1.09</td>\n",
       "      <td>82.0</td>\n",
       "      <td>8.6</td>\n",
       "      <td>E</td>\n",
       "      <td>6.90</td>\n",
       "    </tr>\n",
       "    <tr>\n",
       "      <th>114</th>\n",
       "      <td>Medal of Honor: Frontline</td>\n",
       "      <td>PS2</td>\n",
       "      <td>2002</td>\n",
       "      <td>Shooter</td>\n",
       "      <td>2.93</td>\n",
       "      <td>2.75</td>\n",
       "      <td>0.17</td>\n",
       "      <td>0.99</td>\n",
       "      <td>88.0</td>\n",
       "      <td>8.5</td>\n",
       "      <td>M</td>\n",
       "      <td>6.84</td>\n",
       "    </tr>\n",
       "    <tr>\n",
       "      <th>132</th>\n",
       "      <td>Kingdom Hearts</td>\n",
       "      <td>PS2</td>\n",
       "      <td>2002</td>\n",
       "      <td>Role-Playing</td>\n",
       "      <td>3.64</td>\n",
       "      <td>1.20</td>\n",
       "      <td>1.49</td>\n",
       "      <td>0.07</td>\n",
       "      <td>85.0</td>\n",
       "      <td>8.8</td>\n",
       "      <td>T</td>\n",
       "      <td>6.40</td>\n",
       "    </tr>\n",
       "  </tbody>\n",
       "</table>\n",
       "</div>"
      ],
      "text/plain": [
       "                              name platform  year_of_release         genre  \\\n",
       "17   Grand Theft Auto: San Andreas      PS2             2004        Action   \n",
       "24     Grand Theft Auto: Vice City      PS2             2002        Action   \n",
       "28          Gran Turismo 3: A-Spec      PS2             2001        Racing   \n",
       "38            Grand Theft Auto III      PS2             2001        Action   \n",
       "48                  Gran Turismo 4      PS2             2004        Racing   \n",
       "84                 Final Fantasy X      PS2             2001  Role-Playing   \n",
       "102     Need for Speed Underground      PS2             2003        Racing   \n",
       "113   Need for Speed Underground 2      PS2             2004        Racing   \n",
       "114      Medal of Honor: Frontline      PS2             2002       Shooter   \n",
       "132                 Kingdom Hearts      PS2             2002  Role-Playing   \n",
       "\n",
       "     na_sales  eu_sales  jp_sales  other_sales  critic_score  user_score  \\\n",
       "17       9.43      0.40      0.41        10.57          95.0         9.0   \n",
       "24       8.41      5.49      0.47         1.78          95.0         8.7   \n",
       "28       6.85      5.09      1.87         1.16          95.0         8.4   \n",
       "38       6.99      4.51      0.30         1.30          97.0         8.5   \n",
       "48       3.01      0.01      1.10         7.53          89.0         8.5   \n",
       "84       2.91      2.07      2.73         0.33          92.0         8.7   \n",
       "102      3.27      2.83      0.08         1.02          85.0         8.6   \n",
       "113      2.71      3.02      0.08         1.09          82.0         8.6   \n",
       "114      2.93      2.75      0.17         0.99          88.0         8.5   \n",
       "132      3.64      1.20      1.49         0.07          85.0         8.8   \n",
       "\n",
       "    rating  total_sales  \n",
       "17       M        20.81  \n",
       "24       M        16.15  \n",
       "28       E        14.97  \n",
       "38       M        13.10  \n",
       "48       E        11.65  \n",
       "84       T         8.04  \n",
       "102      E         7.20  \n",
       "113      E         6.90  \n",
       "114      M         6.84  \n",
       "132      T         6.40  "
      ]
     },
     "execution_count": 47,
     "metadata": {},
     "output_type": "execute_result"
    }
   ],
   "source": [
    "platform_PS2 = df.query('platform in \"PS2\"')\n",
    "platform_PS2.head(10)"
   ]
  },
  {
   "cell_type": "code",
   "execution_count": 48,
   "id": "4900ebe0",
   "metadata": {},
   "outputs": [
    {
     "data": {
      "text/html": [
       "<div>\n",
       "<style scoped>\n",
       "    .dataframe tbody tr th:only-of-type {\n",
       "        vertical-align: middle;\n",
       "    }\n",
       "\n",
       "    .dataframe tbody tr th {\n",
       "        vertical-align: top;\n",
       "    }\n",
       "\n",
       "    .dataframe thead th {\n",
       "        text-align: right;\n",
       "    }\n",
       "</style>\n",
       "<table border=\"1\" class=\"dataframe\">\n",
       "  <thead>\n",
       "    <tr style=\"text-align: right;\">\n",
       "      <th></th>\n",
       "      <th>year_of_release</th>\n",
       "      <th>total_sales</th>\n",
       "    </tr>\n",
       "  </thead>\n",
       "  <tbody>\n",
       "    <tr>\n",
       "      <th>4</th>\n",
       "      <td>2004</td>\n",
       "      <td>205</td>\n",
       "    </tr>\n",
       "    <tr>\n",
       "      <th>5</th>\n",
       "      <td>2005</td>\n",
       "      <td>191</td>\n",
       "    </tr>\n",
       "    <tr>\n",
       "      <th>2</th>\n",
       "      <td>2002</td>\n",
       "      <td>185</td>\n",
       "    </tr>\n",
       "    <tr>\n",
       "      <th>3</th>\n",
       "      <td>2003</td>\n",
       "      <td>185</td>\n",
       "    </tr>\n",
       "    <tr>\n",
       "      <th>1</th>\n",
       "      <td>2001</td>\n",
       "      <td>132</td>\n",
       "    </tr>\n",
       "    <tr>\n",
       "      <th>6</th>\n",
       "      <td>2006</td>\n",
       "      <td>119</td>\n",
       "    </tr>\n",
       "    <tr>\n",
       "      <th>7</th>\n",
       "      <td>2007</td>\n",
       "      <td>70</td>\n",
       "    </tr>\n",
       "    <tr>\n",
       "      <th>8</th>\n",
       "      <td>2008</td>\n",
       "      <td>54</td>\n",
       "    </tr>\n",
       "    <tr>\n",
       "      <th>0</th>\n",
       "      <td>2000</td>\n",
       "      <td>40</td>\n",
       "    </tr>\n",
       "    <tr>\n",
       "      <th>9</th>\n",
       "      <td>2009</td>\n",
       "      <td>30</td>\n",
       "    </tr>\n",
       "    <tr>\n",
       "      <th>10</th>\n",
       "      <td>2010</td>\n",
       "      <td>6</td>\n",
       "    </tr>\n",
       "    <tr>\n",
       "      <th>11</th>\n",
       "      <td>2011</td>\n",
       "      <td>3</td>\n",
       "    </tr>\n",
       "  </tbody>\n",
       "</table>\n",
       "</div>"
      ],
      "text/plain": [
       "    year_of_release  total_sales\n",
       "4              2004          205\n",
       "5              2005          191\n",
       "2              2002          185\n",
       "3              2003          185\n",
       "1              2001          132\n",
       "6              2006          119\n",
       "7              2007           70\n",
       "8              2008           54\n",
       "0              2000           40\n",
       "9              2009           30\n",
       "10             2010            6\n",
       "11             2011            3"
      ]
     },
     "execution_count": 48,
     "metadata": {},
     "output_type": "execute_result"
    }
   ],
   "source": [
    "ps2 = platform_PS2.pivot_table(index = 'year_of_release', values = 'total_sales', aggfunc='count')\n",
    "ps2 = ps2.reset_index().sort_values(by='total_sales', ascending=False)\n",
    "ps2"
   ]
  },
  {
   "cell_type": "code",
   "execution_count": 49,
   "id": "096d7ab8",
   "metadata": {},
   "outputs": [
    {
     "data": {
      "image/png": "[encoded data removed]",
      "text/plain": [
       "<Figure size 640x480 with 1 Axes>"
      ]
     },
     "metadata": {},
     "output_type": "display_data"
    }
   ],
   "source": [
    "plt.bar(ps2['year_of_release'], ps2['total_sales'])\n",
    "plt.title('Distribuicao de vendas de jogos PS2 por ano')\n",
    "plt.xlabel('Ano')\n",
    "plt.ylabel('Total de vendas')\n",
    "plt.show()"
   ]
  },
  {
   "cell_type": "code",
   "execution_count": 50,
   "id": "6f5d547b",
   "metadata": {},
   "outputs": [
    {
     "data": {
      "text/html": [
       "<div>\n",
       "<style scoped>\n",
       "    .dataframe tbody tr th:only-of-type {\n",
       "        vertical-align: middle;\n",
       "    }\n",
       "\n",
       "    .dataframe tbody tr th {\n",
       "        vertical-align: top;\n",
       "    }\n",
       "\n",
       "    .dataframe thead th {\n",
       "        text-align: right;\n",
       "    }\n",
       "</style>\n",
       "<table border=\"1\" class=\"dataframe\">\n",
       "  <thead>\n",
       "    <tr style=\"text-align: right;\">\n",
       "      <th></th>\n",
       "      <th>name</th>\n",
       "      <th>platform</th>\n",
       "      <th>year_of_release</th>\n",
       "      <th>genre</th>\n",
       "      <th>na_sales</th>\n",
       "      <th>eu_sales</th>\n",
       "      <th>jp_sales</th>\n",
       "      <th>other_sales</th>\n",
       "      <th>critic_score</th>\n",
       "      <th>user_score</th>\n",
       "      <th>rating</th>\n",
       "      <th>total_sales</th>\n",
       "    </tr>\n",
       "  </thead>\n",
       "  <tbody>\n",
       "    <tr>\n",
       "      <th>14</th>\n",
       "      <td>Kinect Adventures!</td>\n",
       "      <td>X360</td>\n",
       "      <td>2010</td>\n",
       "      <td>Misc</td>\n",
       "      <td>15.00</td>\n",
       "      <td>4.89</td>\n",
       "      <td>0.24</td>\n",
       "      <td>1.69</td>\n",
       "      <td>61.0</td>\n",
       "      <td>6.3</td>\n",
       "      <td>E</td>\n",
       "      <td>21.82</td>\n",
       "    </tr>\n",
       "    <tr>\n",
       "      <th>23</th>\n",
       "      <td>Grand Theft Auto V</td>\n",
       "      <td>X360</td>\n",
       "      <td>2013</td>\n",
       "      <td>Action</td>\n",
       "      <td>9.66</td>\n",
       "      <td>5.14</td>\n",
       "      <td>0.06</td>\n",
       "      <td>1.41</td>\n",
       "      <td>97.0</td>\n",
       "      <td>8.1</td>\n",
       "      <td>M</td>\n",
       "      <td>16.27</td>\n",
       "    </tr>\n",
       "    <tr>\n",
       "      <th>29</th>\n",
       "      <td>Call of Duty: Modern Warfare 3</td>\n",
       "      <td>X360</td>\n",
       "      <td>2011</td>\n",
       "      <td>Shooter</td>\n",
       "      <td>9.04</td>\n",
       "      <td>4.24</td>\n",
       "      <td>0.13</td>\n",
       "      <td>1.32</td>\n",
       "      <td>88.0</td>\n",
       "      <td>3.4</td>\n",
       "      <td>M</td>\n",
       "      <td>14.73</td>\n",
       "    </tr>\n",
       "    <tr>\n",
       "      <th>32</th>\n",
       "      <td>Call of Duty: Black Ops</td>\n",
       "      <td>X360</td>\n",
       "      <td>2010</td>\n",
       "      <td>Shooter</td>\n",
       "      <td>9.70</td>\n",
       "      <td>3.68</td>\n",
       "      <td>0.11</td>\n",
       "      <td>1.13</td>\n",
       "      <td>87.0</td>\n",
       "      <td>6.3</td>\n",
       "      <td>M</td>\n",
       "      <td>14.62</td>\n",
       "    </tr>\n",
       "    <tr>\n",
       "      <th>35</th>\n",
       "      <td>Call of Duty: Black Ops II</td>\n",
       "      <td>X360</td>\n",
       "      <td>2012</td>\n",
       "      <td>Shooter</td>\n",
       "      <td>8.25</td>\n",
       "      <td>4.24</td>\n",
       "      <td>0.07</td>\n",
       "      <td>1.12</td>\n",
       "      <td>83.0</td>\n",
       "      <td>4.8</td>\n",
       "      <td>M</td>\n",
       "      <td>13.68</td>\n",
       "    </tr>\n",
       "    <tr>\n",
       "      <th>36</th>\n",
       "      <td>Call of Duty: Modern Warfare 2</td>\n",
       "      <td>X360</td>\n",
       "      <td>2009</td>\n",
       "      <td>Shooter</td>\n",
       "      <td>8.52</td>\n",
       "      <td>3.59</td>\n",
       "      <td>0.08</td>\n",
       "      <td>1.28</td>\n",
       "      <td>94.0</td>\n",
       "      <td>6.3</td>\n",
       "      <td>M</td>\n",
       "      <td>13.47</td>\n",
       "    </tr>\n",
       "    <tr>\n",
       "      <th>44</th>\n",
       "      <td>Halo 3</td>\n",
       "      <td>X360</td>\n",
       "      <td>2007</td>\n",
       "      <td>Shooter</td>\n",
       "      <td>7.97</td>\n",
       "      <td>2.81</td>\n",
       "      <td>0.13</td>\n",
       "      <td>1.21</td>\n",
       "      <td>94.0</td>\n",
       "      <td>7.8</td>\n",
       "      <td>M</td>\n",
       "      <td>12.12</td>\n",
       "    </tr>\n",
       "    <tr>\n",
       "      <th>51</th>\n",
       "      <td>Grand Theft Auto IV</td>\n",
       "      <td>X360</td>\n",
       "      <td>2008</td>\n",
       "      <td>Action</td>\n",
       "      <td>6.76</td>\n",
       "      <td>3.07</td>\n",
       "      <td>0.14</td>\n",
       "      <td>1.03</td>\n",
       "      <td>98.0</td>\n",
       "      <td>7.9</td>\n",
       "      <td>M</td>\n",
       "      <td>11.00</td>\n",
       "    </tr>\n",
       "    <tr>\n",
       "      <th>60</th>\n",
       "      <td>Call of Duty: Ghosts</td>\n",
       "      <td>X360</td>\n",
       "      <td>2013</td>\n",
       "      <td>Shooter</td>\n",
       "      <td>6.73</td>\n",
       "      <td>2.56</td>\n",
       "      <td>0.04</td>\n",
       "      <td>0.91</td>\n",
       "      <td>73.0</td>\n",
       "      <td>2.6</td>\n",
       "      <td>M</td>\n",
       "      <td>10.24</td>\n",
       "    </tr>\n",
       "    <tr>\n",
       "      <th>64</th>\n",
       "      <td>Halo: Reach</td>\n",
       "      <td>X360</td>\n",
       "      <td>2010</td>\n",
       "      <td>Shooter</td>\n",
       "      <td>7.04</td>\n",
       "      <td>1.95</td>\n",
       "      <td>0.08</td>\n",
       "      <td>0.79</td>\n",
       "      <td>91.0</td>\n",
       "      <td>7.9</td>\n",
       "      <td>M</td>\n",
       "      <td>9.86</td>\n",
       "    </tr>\n",
       "  </tbody>\n",
       "</table>\n",
       "</div>"
      ],
      "text/plain": [
       "                              name platform  year_of_release    genre  \\\n",
       "14              Kinect Adventures!     X360             2010     Misc   \n",
       "23              Grand Theft Auto V     X360             2013   Action   \n",
       "29  Call of Duty: Modern Warfare 3     X360             2011  Shooter   \n",
       "32         Call of Duty: Black Ops     X360             2010  Shooter   \n",
       "35      Call of Duty: Black Ops II     X360             2012  Shooter   \n",
       "36  Call of Duty: Modern Warfare 2     X360             2009  Shooter   \n",
       "44                          Halo 3     X360             2007  Shooter   \n",
       "51             Grand Theft Auto IV     X360             2008   Action   \n",
       "60            Call of Duty: Ghosts     X360             2013  Shooter   \n",
       "64                     Halo: Reach     X360             2010  Shooter   \n",
       "\n",
       "    na_sales  eu_sales  jp_sales  other_sales  critic_score  user_score  \\\n",
       "14     15.00      4.89      0.24         1.69          61.0         6.3   \n",
       "23      9.66      5.14      0.06         1.41          97.0         8.1   \n",
       "29      9.04      4.24      0.13         1.32          88.0         3.4   \n",
       "32      9.70      3.68      0.11         1.13          87.0         6.3   \n",
       "35      8.25      4.24      0.07         1.12          83.0         4.8   \n",
       "36      8.52      3.59      0.08         1.28          94.0         6.3   \n",
       "44      7.97      2.81      0.13         1.21          94.0         7.8   \n",
       "51      6.76      3.07      0.14         1.03          98.0         7.9   \n",
       "60      6.73      2.56      0.04         0.91          73.0         2.6   \n",
       "64      7.04      1.95      0.08         0.79          91.0         7.9   \n",
       "\n",
       "   rating  total_sales  \n",
       "14      E        21.82  \n",
       "23      M        16.27  \n",
       "29      M        14.73  \n",
       "32      M        14.62  \n",
       "35      M        13.68  \n",
       "36      M        13.47  \n",
       "44      M        12.12  \n",
       "51      M        11.00  \n",
       "60      M        10.24  \n",
       "64      M         9.86  "
      ]
     },
     "execution_count": 50,
     "metadata": {},
     "output_type": "execute_result"
    }
   ],
   "source": [
    "platform_x360 = df.query('platform in \"X360\"')\n",
    "platform_x360.head(10)"
   ]
  },
  {
   "cell_type": "code",
   "execution_count": 51,
   "id": "c5c64593",
   "metadata": {},
   "outputs": [
    {
     "data": {
      "text/html": [
       "<div>\n",
       "<style scoped>\n",
       "    .dataframe tbody tr th:only-of-type {\n",
       "        vertical-align: middle;\n",
       "    }\n",
       "\n",
       "    .dataframe tbody tr th {\n",
       "        vertical-align: top;\n",
       "    }\n",
       "\n",
       "    .dataframe thead th {\n",
       "        text-align: right;\n",
       "    }\n",
       "</style>\n",
       "<table border=\"1\" class=\"dataframe\">\n",
       "  <thead>\n",
       "    <tr style=\"text-align: right;\">\n",
       "      <th></th>\n",
       "      <th>year_of_release</th>\n",
       "      <th>total_sales</th>\n",
       "    </tr>\n",
       "  </thead>\n",
       "  <tbody>\n",
       "    <tr>\n",
       "      <th>4</th>\n",
       "      <td>2009</td>\n",
       "      <td>131</td>\n",
       "    </tr>\n",
       "    <tr>\n",
       "      <th>5</th>\n",
       "      <td>2010</td>\n",
       "      <td>131</td>\n",
       "    </tr>\n",
       "    <tr>\n",
       "      <th>6</th>\n",
       "      <td>2011</td>\n",
       "      <td>129</td>\n",
       "    </tr>\n",
       "    <tr>\n",
       "      <th>3</th>\n",
       "      <td>2008</td>\n",
       "      <td>122</td>\n",
       "    </tr>\n",
       "    <tr>\n",
       "      <th>2</th>\n",
       "      <td>2007</td>\n",
       "      <td>105</td>\n",
       "    </tr>\n",
       "    <tr>\n",
       "      <th>7</th>\n",
       "      <td>2012</td>\n",
       "      <td>92</td>\n",
       "    </tr>\n",
       "    <tr>\n",
       "      <th>1</th>\n",
       "      <td>2006</td>\n",
       "      <td>76</td>\n",
       "    </tr>\n",
       "    <tr>\n",
       "      <th>8</th>\n",
       "      <td>2013</td>\n",
       "      <td>60</td>\n",
       "    </tr>\n",
       "    <tr>\n",
       "      <th>9</th>\n",
       "      <td>2014</td>\n",
       "      <td>52</td>\n",
       "    </tr>\n",
       "    <tr>\n",
       "      <th>10</th>\n",
       "      <td>2015</td>\n",
       "      <td>24</td>\n",
       "    </tr>\n",
       "    <tr>\n",
       "      <th>0</th>\n",
       "      <td>2005</td>\n",
       "      <td>16</td>\n",
       "    </tr>\n",
       "    <tr>\n",
       "      <th>11</th>\n",
       "      <td>2016</td>\n",
       "      <td>7</td>\n",
       "    </tr>\n",
       "  </tbody>\n",
       "</table>\n",
       "</div>"
      ],
      "text/plain": [
       "    year_of_release  total_sales\n",
       "4              2009          131\n",
       "5              2010          131\n",
       "6              2011          129\n",
       "3              2008          122\n",
       "2              2007          105\n",
       "7              2012           92\n",
       "1              2006           76\n",
       "8              2013           60\n",
       "9              2014           52\n",
       "10             2015           24\n",
       "0              2005           16\n",
       "11             2016            7"
      ]
     },
     "execution_count": 51,
     "metadata": {},
     "output_type": "execute_result"
    }
   ],
   "source": [
    "x360 = platform_x360.pivot_table(index = 'year_of_release', values = 'total_sales', aggfunc='count')\n",
    "x360 = x360.reset_index().sort_values(by='total_sales', ascending=False)\n",
    "x360"
   ]
  },
  {
   "cell_type": "code",
   "execution_count": 52,
   "id": "623ac620",
   "metadata": {},
   "outputs": [
    {
     "data": {
      "image/png": "[encoded data removed]",
      "text/plain": [
       "<Figure size 640x480 with 1 Axes>"
      ]
     },
     "metadata": {},
     "output_type": "display_data"
    }
   ],
   "source": [
    "plt.bar(x360['year_of_release'], x360['total_sales'])\n",
    "plt.title('Distribuicao de vendas de jogos xbox 360 por ano')\n",
    "plt.xlabel('Ano')\n",
    "plt.ylabel('Total de vendas')\n",
    "plt.show()"
   ]
  },
  {
   "cell_type": "code",
   "execution_count": 53,
   "id": "2c155998",
   "metadata": {},
   "outputs": [
    {
     "data": {
      "text/html": [
       "<div>\n",
       "<style scoped>\n",
       "    .dataframe tbody tr th:only-of-type {\n",
       "        vertical-align: middle;\n",
       "    }\n",
       "\n",
       "    .dataframe tbody tr th {\n",
       "        vertical-align: top;\n",
       "    }\n",
       "\n",
       "    .dataframe thead th {\n",
       "        text-align: right;\n",
       "    }\n",
       "</style>\n",
       "<table border=\"1\" class=\"dataframe\">\n",
       "  <thead>\n",
       "    <tr style=\"text-align: right;\">\n",
       "      <th></th>\n",
       "      <th>name</th>\n",
       "      <th>platform</th>\n",
       "      <th>year_of_release</th>\n",
       "      <th>genre</th>\n",
       "      <th>na_sales</th>\n",
       "      <th>eu_sales</th>\n",
       "      <th>jp_sales</th>\n",
       "      <th>other_sales</th>\n",
       "      <th>critic_score</th>\n",
       "      <th>user_score</th>\n",
       "      <th>rating</th>\n",
       "      <th>total_sales</th>\n",
       "    </tr>\n",
       "  </thead>\n",
       "  <tbody>\n",
       "    <tr>\n",
       "      <th>16</th>\n",
       "      <td>Grand Theft Auto V</td>\n",
       "      <td>PS3</td>\n",
       "      <td>2013</td>\n",
       "      <td>Action</td>\n",
       "      <td>7.02</td>\n",
       "      <td>9.09</td>\n",
       "      <td>0.98</td>\n",
       "      <td>3.96</td>\n",
       "      <td>97.0</td>\n",
       "      <td>8.2</td>\n",
       "      <td>M</td>\n",
       "      <td>21.05</td>\n",
       "    </tr>\n",
       "    <tr>\n",
       "      <th>34</th>\n",
       "      <td>Call of Duty: Black Ops II</td>\n",
       "      <td>PS3</td>\n",
       "      <td>2012</td>\n",
       "      <td>Shooter</td>\n",
       "      <td>4.99</td>\n",
       "      <td>5.73</td>\n",
       "      <td>0.65</td>\n",
       "      <td>2.42</td>\n",
       "      <td>83.0</td>\n",
       "      <td>5.3</td>\n",
       "      <td>M</td>\n",
       "      <td>13.79</td>\n",
       "    </tr>\n",
       "    <tr>\n",
       "      <th>37</th>\n",
       "      <td>Call of Duty: Modern Warfare 3</td>\n",
       "      <td>PS3</td>\n",
       "      <td>2011</td>\n",
       "      <td>Shooter</td>\n",
       "      <td>5.54</td>\n",
       "      <td>5.73</td>\n",
       "      <td>0.49</td>\n",
       "      <td>1.57</td>\n",
       "      <td>88.0</td>\n",
       "      <td>3.2</td>\n",
       "      <td>M</td>\n",
       "      <td>13.33</td>\n",
       "    </tr>\n",
       "    <tr>\n",
       "      <th>41</th>\n",
       "      <td>Call of Duty: Black Ops</td>\n",
       "      <td>PS3</td>\n",
       "      <td>2010</td>\n",
       "      <td>Shooter</td>\n",
       "      <td>5.99</td>\n",
       "      <td>4.37</td>\n",
       "      <td>0.48</td>\n",
       "      <td>1.79</td>\n",
       "      <td>88.0</td>\n",
       "      <td>6.4</td>\n",
       "      <td>M</td>\n",
       "      <td>12.63</td>\n",
       "    </tr>\n",
       "    <tr>\n",
       "      <th>54</th>\n",
       "      <td>Gran Turismo 5</td>\n",
       "      <td>PS3</td>\n",
       "      <td>2010</td>\n",
       "      <td>Racing</td>\n",
       "      <td>2.96</td>\n",
       "      <td>4.82</td>\n",
       "      <td>0.81</td>\n",
       "      <td>2.11</td>\n",
       "      <td>84.0</td>\n",
       "      <td>7.5</td>\n",
       "      <td>E</td>\n",
       "      <td>10.70</td>\n",
       "    </tr>\n",
       "    <tr>\n",
       "      <th>55</th>\n",
       "      <td>Call of Duty: Modern Warfare 2</td>\n",
       "      <td>PS3</td>\n",
       "      <td>2009</td>\n",
       "      <td>Shooter</td>\n",
       "      <td>4.99</td>\n",
       "      <td>3.64</td>\n",
       "      <td>0.38</td>\n",
       "      <td>1.60</td>\n",
       "      <td>94.0</td>\n",
       "      <td>6.3</td>\n",
       "      <td>M</td>\n",
       "      <td>10.61</td>\n",
       "    </tr>\n",
       "    <tr>\n",
       "      <th>57</th>\n",
       "      <td>Grand Theft Auto IV</td>\n",
       "      <td>PS3</td>\n",
       "      <td>2008</td>\n",
       "      <td>Action</td>\n",
       "      <td>4.76</td>\n",
       "      <td>3.69</td>\n",
       "      <td>0.44</td>\n",
       "      <td>1.61</td>\n",
       "      <td>98.0</td>\n",
       "      <td>7.5</td>\n",
       "      <td>M</td>\n",
       "      <td>10.50</td>\n",
       "    </tr>\n",
       "    <tr>\n",
       "      <th>69</th>\n",
       "      <td>Call of Duty: Ghosts</td>\n",
       "      <td>PS3</td>\n",
       "      <td>2013</td>\n",
       "      <td>Shooter</td>\n",
       "      <td>4.10</td>\n",
       "      <td>3.63</td>\n",
       "      <td>0.38</td>\n",
       "      <td>1.25</td>\n",
       "      <td>71.0</td>\n",
       "      <td>2.6</td>\n",
       "      <td>M</td>\n",
       "      <td>9.36</td>\n",
       "    </tr>\n",
       "    <tr>\n",
       "      <th>81</th>\n",
       "      <td>FIFA Soccer 13</td>\n",
       "      <td>PS3</td>\n",
       "      <td>2012</td>\n",
       "      <td>Action</td>\n",
       "      <td>1.06</td>\n",
       "      <td>5.01</td>\n",
       "      <td>0.13</td>\n",
       "      <td>1.97</td>\n",
       "      <td>88.0</td>\n",
       "      <td>6.6</td>\n",
       "      <td>M</td>\n",
       "      <td>8.17</td>\n",
       "    </tr>\n",
       "    <tr>\n",
       "      <th>104</th>\n",
       "      <td>Battlefield 3</td>\n",
       "      <td>PS3</td>\n",
       "      <td>2011</td>\n",
       "      <td>Shooter</td>\n",
       "      <td>2.85</td>\n",
       "      <td>2.89</td>\n",
       "      <td>0.35</td>\n",
       "      <td>1.08</td>\n",
       "      <td>85.0</td>\n",
       "      <td>7.5</td>\n",
       "      <td>M</td>\n",
       "      <td>7.17</td>\n",
       "    </tr>\n",
       "  </tbody>\n",
       "</table>\n",
       "</div>"
      ],
      "text/plain": [
       "                               name platform  year_of_release    genre  \\\n",
       "16               Grand Theft Auto V      PS3             2013   Action   \n",
       "34       Call of Duty: Black Ops II      PS3             2012  Shooter   \n",
       "37   Call of Duty: Modern Warfare 3      PS3             2011  Shooter   \n",
       "41          Call of Duty: Black Ops      PS3             2010  Shooter   \n",
       "54                   Gran Turismo 5      PS3             2010   Racing   \n",
       "55   Call of Duty: Modern Warfare 2      PS3             2009  Shooter   \n",
       "57              Grand Theft Auto IV      PS3             2008   Action   \n",
       "69             Call of Duty: Ghosts      PS3             2013  Shooter   \n",
       "81                   FIFA Soccer 13      PS3             2012   Action   \n",
       "104                   Battlefield 3      PS3             2011  Shooter   \n",
       "\n",
       "     na_sales  eu_sales  jp_sales  other_sales  critic_score  user_score  \\\n",
       "16       7.02      9.09      0.98         3.96          97.0         8.2   \n",
       "34       4.99      5.73      0.65         2.42          83.0         5.3   \n",
       "37       5.54      5.73      0.49         1.57          88.0         3.2   \n",
       "41       5.99      4.37      0.48         1.79          88.0         6.4   \n",
       "54       2.96      4.82      0.81         2.11          84.0         7.5   \n",
       "55       4.99      3.64      0.38         1.60          94.0         6.3   \n",
       "57       4.76      3.69      0.44         1.61          98.0         7.5   \n",
       "69       4.10      3.63      0.38         1.25          71.0         2.6   \n",
       "81       1.06      5.01      0.13         1.97          88.0         6.6   \n",
       "104      2.85      2.89      0.35         1.08          85.0         7.5   \n",
       "\n",
       "    rating  total_sales  \n",
       "16       M        21.05  \n",
       "34       M        13.79  \n",
       "37       M        13.33  \n",
       "41       M        12.63  \n",
       "54       E        10.70  \n",
       "55       M        10.61  \n",
       "57       M        10.50  \n",
       "69       M         9.36  \n",
       "81       M         8.17  \n",
       "104      M         7.17  "
      ]
     },
     "execution_count": 53,
     "metadata": {},
     "output_type": "execute_result"
    }
   ],
   "source": [
    "platform_ps3 = df.query('platform in \"PS3\"')\n",
    "platform_ps3.head(10)"
   ]
  },
  {
   "cell_type": "code",
   "execution_count": 54,
   "id": "27017356",
   "metadata": {},
   "outputs": [
    {
     "data": {
      "text/html": [
       "<div>\n",
       "<style scoped>\n",
       "    .dataframe tbody tr th:only-of-type {\n",
       "        vertical-align: middle;\n",
       "    }\n",
       "\n",
       "    .dataframe tbody tr th {\n",
       "        vertical-align: top;\n",
       "    }\n",
       "\n",
       "    .dataframe thead th {\n",
       "        text-align: right;\n",
       "    }\n",
       "</style>\n",
       "<table border=\"1\" class=\"dataframe\">\n",
       "  <thead>\n",
       "    <tr style=\"text-align: right;\">\n",
       "      <th></th>\n",
       "      <th>year_of_release</th>\n",
       "      <th>total_sales</th>\n",
       "    </tr>\n",
       "  </thead>\n",
       "  <tbody>\n",
       "    <tr>\n",
       "      <th>5</th>\n",
       "      <td>2011</td>\n",
       "      <td>134</td>\n",
       "    </tr>\n",
       "    <tr>\n",
       "      <th>4</th>\n",
       "      <td>2010</td>\n",
       "      <td>122</td>\n",
       "    </tr>\n",
       "    <tr>\n",
       "      <th>3</th>\n",
       "      <td>2009</td>\n",
       "      <td>116</td>\n",
       "    </tr>\n",
       "    <tr>\n",
       "      <th>2</th>\n",
       "      <td>2008</td>\n",
       "      <td>111</td>\n",
       "    </tr>\n",
       "    <tr>\n",
       "      <th>6</th>\n",
       "      <td>2012</td>\n",
       "      <td>97</td>\n",
       "    </tr>\n",
       "    <tr>\n",
       "      <th>7</th>\n",
       "      <td>2013</td>\n",
       "      <td>88</td>\n",
       "    </tr>\n",
       "    <tr>\n",
       "      <th>1</th>\n",
       "      <td>2007</td>\n",
       "      <td>76</td>\n",
       "    </tr>\n",
       "    <tr>\n",
       "      <th>8</th>\n",
       "      <td>2014</td>\n",
       "      <td>63</td>\n",
       "    </tr>\n",
       "    <tr>\n",
       "      <th>9</th>\n",
       "      <td>2015</td>\n",
       "      <td>26</td>\n",
       "    </tr>\n",
       "    <tr>\n",
       "      <th>0</th>\n",
       "      <td>2006</td>\n",
       "      <td>19</td>\n",
       "    </tr>\n",
       "    <tr>\n",
       "      <th>10</th>\n",
       "      <td>2016</td>\n",
       "      <td>9</td>\n",
       "    </tr>\n",
       "  </tbody>\n",
       "</table>\n",
       "</div>"
      ],
      "text/plain": [
       "    year_of_release  total_sales\n",
       "5              2011          134\n",
       "4              2010          122\n",
       "3              2009          116\n",
       "2              2008          111\n",
       "6              2012           97\n",
       "7              2013           88\n",
       "1              2007           76\n",
       "8              2014           63\n",
       "9              2015           26\n",
       "0              2006           19\n",
       "10             2016            9"
      ]
     },
     "execution_count": 54,
     "metadata": {},
     "output_type": "execute_result"
    }
   ],
   "source": [
    "ps3 = platform_ps3.pivot_table(index = 'year_of_release', values = 'total_sales', aggfunc='count')\n",
    "ps3 = ps3.reset_index().sort_values(by='total_sales', ascending=False)\n",
    "ps3"
   ]
  },
  {
   "cell_type": "code",
   "execution_count": 55,
   "id": "79f17671",
   "metadata": {
    "scrolled": true
   },
   "outputs": [
    {
     "data": {
      "image/png": "[encoded data removed]",
      "text/plain": [
       "<Figure size 640x480 with 1 Axes>"
      ]
     },
     "metadata": {},
     "output_type": "display_data"
    }
   ],
   "source": [
    "plt.bar(ps3['year_of_release'], ps3['total_sales'])\n",
    "plt.title('Distribuicao de vendas jogos PS3 por ano')\n",
    "plt.xlabel('Ano')\n",
    "plt.ylabel('Total de vendas')\n",
    "plt.show()"
   ]
  },
  {
   "cell_type": "markdown",
   "id": "5ddce19e",
   "metadata": {},
   "source": [
    "Analysing the sales of the three chosen platforms we find that they all have a level of popularity on the rise up to about half of the period under study and after tha their sales fall to peak. It may be because a new platform is launched on the market, a good example of this is explicit in the PS2 and PS3 data, both are from the same company and the period of greatest decline in PS2 sales begins when the launch and ascension of PS3 occurs."
   ]
  },
  {
   "cell_type": "markdown",
   "id": "07fb2694",
   "metadata": {},
   "source": [
    "# 2.3 Collect data from a certain period"
   ]
  },
  {
   "cell_type": "markdown",
   "id": "fe17e5a8",
   "metadata": {},
   "source": [
    "I chose to choose the data from 2014 to 2016 to study."
   ]
  },
  {
   "cell_type": "code",
   "execution_count": 56,
   "id": "dd861dbd",
   "metadata": {},
   "outputs": [
    {
     "data": {
      "text/html": [
       "<div>\n",
       "<style scoped>\n",
       "    .dataframe tbody tr th:only-of-type {\n",
       "        vertical-align: middle;\n",
       "    }\n",
       "\n",
       "    .dataframe tbody tr th {\n",
       "        vertical-align: top;\n",
       "    }\n",
       "\n",
       "    .dataframe thead th {\n",
       "        text-align: right;\n",
       "    }\n",
       "</style>\n",
       "<table border=\"1\" class=\"dataframe\">\n",
       "  <thead>\n",
       "    <tr style=\"text-align: right;\">\n",
       "      <th></th>\n",
       "      <th>name</th>\n",
       "      <th>platform</th>\n",
       "      <th>year_of_release</th>\n",
       "      <th>genre</th>\n",
       "      <th>na_sales</th>\n",
       "      <th>eu_sales</th>\n",
       "      <th>jp_sales</th>\n",
       "      <th>other_sales</th>\n",
       "      <th>critic_score</th>\n",
       "      <th>user_score</th>\n",
       "      <th>rating</th>\n",
       "      <th>total_sales</th>\n",
       "    </tr>\n",
       "  </thead>\n",
       "  <tbody>\n",
       "    <tr>\n",
       "      <th>42</th>\n",
       "      <td>Grand Theft Auto V</td>\n",
       "      <td>PS4</td>\n",
       "      <td>2014</td>\n",
       "      <td>Action</td>\n",
       "      <td>3.96</td>\n",
       "      <td>6.31</td>\n",
       "      <td>0.38</td>\n",
       "      <td>1.97</td>\n",
       "      <td>97.0</td>\n",
       "      <td>8.3</td>\n",
       "      <td>M</td>\n",
       "      <td>12.62</td>\n",
       "    </tr>\n",
       "    <tr>\n",
       "      <th>77</th>\n",
       "      <td>FIFA 16</td>\n",
       "      <td>PS4</td>\n",
       "      <td>2015</td>\n",
       "      <td>Sports</td>\n",
       "      <td>1.12</td>\n",
       "      <td>6.12</td>\n",
       "      <td>0.06</td>\n",
       "      <td>1.28</td>\n",
       "      <td>82.0</td>\n",
       "      <td>4.3</td>\n",
       "      <td>E</td>\n",
       "      <td>8.58</td>\n",
       "    </tr>\n",
       "    <tr>\n",
       "      <th>92</th>\n",
       "      <td>Call of Duty: Advanced Warfare</td>\n",
       "      <td>PS4</td>\n",
       "      <td>2014</td>\n",
       "      <td>Shooter</td>\n",
       "      <td>2.81</td>\n",
       "      <td>3.48</td>\n",
       "      <td>0.14</td>\n",
       "      <td>1.23</td>\n",
       "      <td>83.0</td>\n",
       "      <td>5.7</td>\n",
       "      <td>M</td>\n",
       "      <td>7.66</td>\n",
       "    </tr>\n",
       "    <tr>\n",
       "      <th>94</th>\n",
       "      <td>FIFA 17</td>\n",
       "      <td>PS4</td>\n",
       "      <td>2016</td>\n",
       "      <td>Sports</td>\n",
       "      <td>0.66</td>\n",
       "      <td>5.75</td>\n",
       "      <td>0.08</td>\n",
       "      <td>1.11</td>\n",
       "      <td>85.0</td>\n",
       "      <td>5.0</td>\n",
       "      <td>E</td>\n",
       "      <td>7.60</td>\n",
       "    </tr>\n",
       "    <tr>\n",
       "      <th>105</th>\n",
       "      <td>Fallout 4</td>\n",
       "      <td>PS4</td>\n",
       "      <td>2015</td>\n",
       "      <td>Role-Playing</td>\n",
       "      <td>2.53</td>\n",
       "      <td>3.27</td>\n",
       "      <td>0.24</td>\n",
       "      <td>1.13</td>\n",
       "      <td>87.0</td>\n",
       "      <td>6.5</td>\n",
       "      <td>T</td>\n",
       "      <td>7.17</td>\n",
       "    </tr>\n",
       "  </tbody>\n",
       "</table>\n",
       "</div>"
      ],
      "text/plain": [
       "                               name platform  year_of_release         genre  \\\n",
       "42               Grand Theft Auto V      PS4             2014        Action   \n",
       "77                          FIFA 16      PS4             2015        Sports   \n",
       "92   Call of Duty: Advanced Warfare      PS4             2014       Shooter   \n",
       "94                          FIFA 17      PS4             2016        Sports   \n",
       "105                       Fallout 4      PS4             2015  Role-Playing   \n",
       "\n",
       "     na_sales  eu_sales  jp_sales  other_sales  critic_score  user_score  \\\n",
       "42       3.96      6.31      0.38         1.97          97.0         8.3   \n",
       "77       1.12      6.12      0.06         1.28          82.0         4.3   \n",
       "92       2.81      3.48      0.14         1.23          83.0         5.7   \n",
       "94       0.66      5.75      0.08         1.11          85.0         5.0   \n",
       "105      2.53      3.27      0.24         1.13          87.0         6.5   \n",
       "\n",
       "    rating  total_sales  \n",
       "42       M        12.62  \n",
       "77       E         8.58  \n",
       "92       M         7.66  \n",
       "94       E         7.60  \n",
       "105      T         7.17  "
      ]
     },
     "execution_count": 56,
     "metadata": {},
     "output_type": "execute_result"
    }
   ],
   "source": [
    "#Determine the period\n",
    "periodo_dados = df.loc[df['year_of_release'] >= 2014]\n",
    "periodo_dados.head()"
   ]
  },
  {
   "cell_type": "markdown",
   "id": "82a4dedc",
   "metadata": {},
   "source": [
    "# 2.4 Total sales by platform"
   ]
  },
  {
   "cell_type": "code",
   "execution_count": 57,
   "id": "756ecb80",
   "metadata": {},
   "outputs": [
    {
     "data": {
      "text/html": [
       "<div>\n",
       "<style scoped>\n",
       "    .dataframe tbody tr th:only-of-type {\n",
       "        vertical-align: middle;\n",
       "    }\n",
       "\n",
       "    .dataframe tbody tr th {\n",
       "        vertical-align: top;\n",
       "    }\n",
       "\n",
       "    .dataframe thead th {\n",
       "        text-align: right;\n",
       "    }\n",
       "</style>\n",
       "<table border=\"1\" class=\"dataframe\">\n",
       "  <thead>\n",
       "    <tr style=\"text-align: right;\">\n",
       "      <th></th>\n",
       "      <th>platform</th>\n",
       "      <th>total_sales</th>\n",
       "    </tr>\n",
       "  </thead>\n",
       "  <tbody>\n",
       "    <tr>\n",
       "      <th>3</th>\n",
       "      <td>PS4</td>\n",
       "      <td>219.85</td>\n",
       "    </tr>\n",
       "    <tr>\n",
       "      <th>8</th>\n",
       "      <td>XOne</td>\n",
       "      <td>115.74</td>\n",
       "    </tr>\n",
       "    <tr>\n",
       "      <th>2</th>\n",
       "      <td>PS3</td>\n",
       "      <td>48.69</td>\n",
       "    </tr>\n",
       "    <tr>\n",
       "      <th>7</th>\n",
       "      <td>X360</td>\n",
       "      <td>40.84</td>\n",
       "    </tr>\n",
       "    <tr>\n",
       "      <th>6</th>\n",
       "      <td>WiiU</td>\n",
       "      <td>34.65</td>\n",
       "    </tr>\n",
       "    <tr>\n",
       "      <th>0</th>\n",
       "      <td>3DS</td>\n",
       "      <td>26.89</td>\n",
       "    </tr>\n",
       "    <tr>\n",
       "      <th>1</th>\n",
       "      <td>PC</td>\n",
       "      <td>24.08</td>\n",
       "    </tr>\n",
       "    <tr>\n",
       "      <th>4</th>\n",
       "      <td>PSV</td>\n",
       "      <td>10.80</td>\n",
       "    </tr>\n",
       "    <tr>\n",
       "      <th>5</th>\n",
       "      <td>Wii</td>\n",
       "      <td>2.57</td>\n",
       "    </tr>\n",
       "  </tbody>\n",
       "</table>\n",
       "</div>"
      ],
      "text/plain": [
       "  platform  total_sales\n",
       "3      PS4       219.85\n",
       "8     XOne       115.74\n",
       "2      PS3        48.69\n",
       "7     X360        40.84\n",
       "6     WiiU        34.65\n",
       "0      3DS        26.89\n",
       "1       PC        24.08\n",
       "4      PSV        10.80\n",
       "5      Wii         2.57"
      ]
     },
     "execution_count": 57,
     "metadata": {},
     "output_type": "execute_result"
    }
   ],
   "source": [
    "#Check the total sales of platforms\n",
    "plataforma_vendas = periodo_dados.groupby('platform')['total_sales'].sum().reset_index()\n",
    "plataforma_vendas = plataforma_vendas.sort_values(by='total_sales', ascending=False)\n",
    "plataforma_vendas"
   ]
  },
  {
   "cell_type": "code",
   "execution_count": 58,
   "id": "44922087",
   "metadata": {},
   "outputs": [
    {
     "data": {
      "text/plain": [
       "Text(0, 0.5, 'Vendas ')"
      ]
     },
     "execution_count": 58,
     "metadata": {},
     "output_type": "execute_result"
    },
    {
     "data": {
      "image/png": "[encoded data removed]",
      "text/plain": [
       "<Figure size 640x480 with 1 Axes>"
      ]
     },
     "metadata": {},
     "output_type": "display_data"
    }
   ],
   "source": [
    "sns.barplot(data=plataforma_vendas, x='platform', y='total_sales', color='blue')\n",
    "plt.title('Vendas por plataforma')\n",
    "plt.xlabel('Plataforma')\n",
    "plt.ylabel('Vendas ')"
   ]
  },
  {
   "cell_type": "markdown",
   "id": "ac051ef1",
   "metadata": {},
   "source": [
    "Through our bar chart we can check which platforms are sales leaders.\n",
    "\n",
    "That said, we will select the three potentially most profitable"
   ]
  },
  {
   "cell_type": "code",
   "execution_count": 59,
   "id": "2a366a57",
   "metadata": {},
   "outputs": [
    {
     "data": {
      "text/html": [
       "<div>\n",
       "<style scoped>\n",
       "    .dataframe tbody tr th:only-of-type {\n",
       "        vertical-align: middle;\n",
       "    }\n",
       "\n",
       "    .dataframe tbody tr th {\n",
       "        vertical-align: top;\n",
       "    }\n",
       "\n",
       "    .dataframe thead th {\n",
       "        text-align: right;\n",
       "    }\n",
       "</style>\n",
       "<table border=\"1\" class=\"dataframe\">\n",
       "  <thead>\n",
       "    <tr style=\"text-align: right;\">\n",
       "      <th></th>\n",
       "      <th>year_of_release</th>\n",
       "      <th>total_sales</th>\n",
       "    </tr>\n",
       "  </thead>\n",
       "  <tbody>\n",
       "    <tr>\n",
       "      <th>0</th>\n",
       "      <td>2014</td>\n",
       "      <td>80.95</td>\n",
       "    </tr>\n",
       "    <tr>\n",
       "      <th>1</th>\n",
       "      <td>2015</td>\n",
       "      <td>81.16</td>\n",
       "    </tr>\n",
       "    <tr>\n",
       "      <th>2</th>\n",
       "      <td>2016</td>\n",
       "      <td>57.74</td>\n",
       "    </tr>\n",
       "  </tbody>\n",
       "</table>\n",
       "</div>"
      ],
      "text/plain": [
       "   year_of_release  total_sales\n",
       "0             2014        80.95\n",
       "1             2015        81.16\n",
       "2             2016        57.74"
      ]
     },
     "execution_count": 59,
     "metadata": {},
     "output_type": "execute_result"
    }
   ],
   "source": [
    "plat_ps4 = 'PS4'\n",
    "df_plataforma = periodo_dados[periodo_dados['platform'] == plat_ps4]\n",
    "vendas_ps4 = df_plataforma.groupby('year_of_release')['total_sales'].sum().reset_index()\n",
    "vendas_ps4"
   ]
  },
  {
   "cell_type": "code",
   "execution_count": 60,
   "id": "0d6e2aa4",
   "metadata": {},
   "outputs": [
    {
     "data": {
      "text/html": [
       "<div>\n",
       "<style scoped>\n",
       "    .dataframe tbody tr th:only-of-type {\n",
       "        vertical-align: middle;\n",
       "    }\n",
       "\n",
       "    .dataframe tbody tr th {\n",
       "        vertical-align: top;\n",
       "    }\n",
       "\n",
       "    .dataframe thead th {\n",
       "        text-align: right;\n",
       "    }\n",
       "</style>\n",
       "<table border=\"1\" class=\"dataframe\">\n",
       "  <thead>\n",
       "    <tr style=\"text-align: right;\">\n",
       "      <th></th>\n",
       "      <th>year_of_release</th>\n",
       "      <th>total_sales</th>\n",
       "    </tr>\n",
       "  </thead>\n",
       "  <tbody>\n",
       "    <tr>\n",
       "      <th>0</th>\n",
       "      <td>2014</td>\n",
       "      <td>47.09</td>\n",
       "    </tr>\n",
       "    <tr>\n",
       "      <th>1</th>\n",
       "      <td>2015</td>\n",
       "      <td>44.83</td>\n",
       "    </tr>\n",
       "    <tr>\n",
       "      <th>2</th>\n",
       "      <td>2016</td>\n",
       "      <td>23.82</td>\n",
       "    </tr>\n",
       "  </tbody>\n",
       "</table>\n",
       "</div>"
      ],
      "text/plain": [
       "   year_of_release  total_sales\n",
       "0             2014        47.09\n",
       "1             2015        44.83\n",
       "2             2016        23.82"
      ]
     },
     "execution_count": 60,
     "metadata": {},
     "output_type": "execute_result"
    }
   ],
   "source": [
    "plat_xone = 'XOne'\n",
    "df_plataformax = periodo_dados[periodo_dados['platform'] == plat_xone]\n",
    "plat_xone = df_plataformax.groupby('year_of_release')['total_sales'].sum().reset_index()\n",
    "plat_xone"
   ]
  },
  {
   "cell_type": "code",
   "execution_count": 61,
   "id": "810b8e99",
   "metadata": {},
   "outputs": [
    {
     "data": {
      "text/html": [
       "<div>\n",
       "<style scoped>\n",
       "    .dataframe tbody tr th:only-of-type {\n",
       "        vertical-align: middle;\n",
       "    }\n",
       "\n",
       "    .dataframe tbody tr th {\n",
       "        vertical-align: top;\n",
       "    }\n",
       "\n",
       "    .dataframe thead th {\n",
       "        text-align: right;\n",
       "    }\n",
       "</style>\n",
       "<table border=\"1\" class=\"dataframe\">\n",
       "  <thead>\n",
       "    <tr style=\"text-align: right;\">\n",
       "      <th></th>\n",
       "      <th>year_of_release</th>\n",
       "      <th>total_sales</th>\n",
       "    </tr>\n",
       "  </thead>\n",
       "  <tbody>\n",
       "    <tr>\n",
       "      <th>0</th>\n",
       "      <td>2014</td>\n",
       "      <td>35.97</td>\n",
       "    </tr>\n",
       "    <tr>\n",
       "      <th>1</th>\n",
       "      <td>2015</td>\n",
       "      <td>11.09</td>\n",
       "    </tr>\n",
       "    <tr>\n",
       "      <th>2</th>\n",
       "      <td>2016</td>\n",
       "      <td>1.63</td>\n",
       "    </tr>\n",
       "  </tbody>\n",
       "</table>\n",
       "</div>"
      ],
      "text/plain": [
       "   year_of_release  total_sales\n",
       "0             2014        35.97\n",
       "1             2015        11.09\n",
       "2             2016         1.63"
      ]
     },
     "execution_count": 61,
     "metadata": {},
     "output_type": "execute_result"
    }
   ],
   "source": [
    "plat_ps3 = 'PS3'\n",
    "df_plataformaps3 = periodo_dados[periodo_dados['platform'] == plat_ps3]\n",
    "plat_ps3 = df_plataformaps3.groupby('year_of_release')['total_sales'].sum().reset_index()\n",
    "plat_ps3"
   ]
  },
  {
   "cell_type": "markdown",
   "id": "1ac59482",
   "metadata": {},
   "source": [
    "The three leading sales platforms are in decline but with different values and contexts. We can mention that PS4 began its decline only in 2016 but with a large number of sales while x One and PS3 started a year before their decline. It should be noted that PS3 lost a lot of popularity in 2016."
   ]
  },
  {
   "cell_type": "markdown",
   "id": "8e878229",
   "metadata": {},
   "source": [
    "# 2.5 Global game sales divided by platform"
   ]
  },
  {
   "cell_type": "markdown",
   "id": "975dc6b3",
   "metadata": {},
   "source": [
    "Next I will create a boxplot that will contain the global sale of all games per platform in order to observe if the differences in sales are significant."
   ]
  },
  {
   "cell_type": "code",
   "execution_count": 62,
   "id": "26db794f",
   "metadata": {},
   "outputs": [
    {
     "data": {
      "image/png": "[encoded data removed]",
      "text/plain": [
       "<Figure size 1500x1000 with 1 Axes>"
      ]
     },
     "metadata": {},
     "output_type": "display_data"
    }
   ],
   "source": [
    "periodo_dados.boxplot(column='total_sales', by='platform', figsize=(15, 10))\n",
    "plt.ylim(0,4)\n",
    "plt.title('Vendas globais de jogos por plataforma')\n",
    "plt.xlabel('Plataforma')\n",
    "plt.ylabel('Vendas')\n",
    "plt.show()"
   ]
  },
  {
   "cell_type": "markdown",
   "id": "e8a4fe63",
   "metadata": {},
   "source": [
    "The differences are significant in the total number of sales because the medians are different and the moustaches are different."
   ]
  },
  {
   "cell_type": "markdown",
   "id": "a02d31f7",
   "metadata": {},
   "source": [
    "We will analyse whether the average sales on several platforms are significant, for this we will group the platform data and total sales by calculating its average."
   ]
  },
  {
   "cell_type": "code",
   "execution_count": 63,
   "id": "97e76ab9",
   "metadata": {},
   "outputs": [
    {
     "data": {
      "text/plain": [
       "platform\n",
       "Wii     1.285000\n",
       "PS4     0.908471\n",
       "WiiU    0.721875\n",
       "XOne    0.701455\n",
       "PS3     0.496837\n",
       "X360    0.492048\n",
       "3DS     0.488909\n",
       "PC      0.197377\n",
       "PSV     0.147945\n",
       "Name: total_sales, dtype: float64"
      ]
     },
     "execution_count": 63,
     "metadata": {},
     "output_type": "execute_result"
    }
   ],
   "source": [
    "media_vendas = periodo_dados.groupby('platform')['total_sales'].mean()\n",
    "media_vendas = media_vendas.sort_values(ascending=False)\n",
    "media_vendas"
   ]
  },
  {
   "cell_type": "markdown",
   "id": "e5a64dd9",
   "metadata": {},
   "source": [
    "In the analysis of average sales, the Wii platform leads the ranking with a total of 1.28 units per game, thus obtaining the highest average, followed by PS4 with a total of 0.90 units per game. The platform with the fewest game units sold and PSV with a total of 0.14."
   ]
  },
  {
   "cell_type": "markdown",
   "id": "dedd7247",
   "metadata": {},
   "source": [
    "# 2.6 Dispersing graphs"
   ]
  },
  {
   "cell_type": "markdown",
   "id": "23b529d4",
   "metadata": {},
   "source": [
    "We will now check how user evaluations affect the sales of a popular platform. In my case, I will opt for the PS4 platform.\n",
    "\n",
    "In this same topic we will compare the sales of some games sold on PS4 with other platforms."
   ]
  },
  {
   "cell_type": "code",
   "execution_count": 64,
   "id": "593ed9d6",
   "metadata": {},
   "outputs": [
    {
     "data": {
      "text/html": [
       "<div>\n",
       "<style scoped>\n",
       "    .dataframe tbody tr th:only-of-type {\n",
       "        vertical-align: middle;\n",
       "    }\n",
       "\n",
       "    .dataframe tbody tr th {\n",
       "        vertical-align: top;\n",
       "    }\n",
       "\n",
       "    .dataframe thead th {\n",
       "        text-align: right;\n",
       "    }\n",
       "</style>\n",
       "<table border=\"1\" class=\"dataframe\">\n",
       "  <thead>\n",
       "    <tr style=\"text-align: right;\">\n",
       "      <th></th>\n",
       "      <th>name</th>\n",
       "      <th>platform</th>\n",
       "      <th>year_of_release</th>\n",
       "      <th>genre</th>\n",
       "      <th>na_sales</th>\n",
       "      <th>eu_sales</th>\n",
       "      <th>jp_sales</th>\n",
       "      <th>other_sales</th>\n",
       "      <th>critic_score</th>\n",
       "      <th>user_score</th>\n",
       "      <th>rating</th>\n",
       "      <th>total_sales</th>\n",
       "    </tr>\n",
       "  </thead>\n",
       "  <tbody>\n",
       "    <tr>\n",
       "      <th>42</th>\n",
       "      <td>Grand Theft Auto V</td>\n",
       "      <td>PS4</td>\n",
       "      <td>2014</td>\n",
       "      <td>Action</td>\n",
       "      <td>3.96</td>\n",
       "      <td>6.31</td>\n",
       "      <td>0.38</td>\n",
       "      <td>1.97</td>\n",
       "      <td>97.0</td>\n",
       "      <td>8.3</td>\n",
       "      <td>M</td>\n",
       "      <td>12.62</td>\n",
       "    </tr>\n",
       "    <tr>\n",
       "      <th>77</th>\n",
       "      <td>FIFA 16</td>\n",
       "      <td>PS4</td>\n",
       "      <td>2015</td>\n",
       "      <td>Sports</td>\n",
       "      <td>1.12</td>\n",
       "      <td>6.12</td>\n",
       "      <td>0.06</td>\n",
       "      <td>1.28</td>\n",
       "      <td>82.0</td>\n",
       "      <td>4.3</td>\n",
       "      <td>E</td>\n",
       "      <td>8.58</td>\n",
       "    </tr>\n",
       "    <tr>\n",
       "      <th>92</th>\n",
       "      <td>Call of Duty: Advanced Warfare</td>\n",
       "      <td>PS4</td>\n",
       "      <td>2014</td>\n",
       "      <td>Shooter</td>\n",
       "      <td>2.81</td>\n",
       "      <td>3.48</td>\n",
       "      <td>0.14</td>\n",
       "      <td>1.23</td>\n",
       "      <td>83.0</td>\n",
       "      <td>5.7</td>\n",
       "      <td>M</td>\n",
       "      <td>7.66</td>\n",
       "    </tr>\n",
       "    <tr>\n",
       "      <th>94</th>\n",
       "      <td>FIFA 17</td>\n",
       "      <td>PS4</td>\n",
       "      <td>2016</td>\n",
       "      <td>Sports</td>\n",
       "      <td>0.66</td>\n",
       "      <td>5.75</td>\n",
       "      <td>0.08</td>\n",
       "      <td>1.11</td>\n",
       "      <td>85.0</td>\n",
       "      <td>5.0</td>\n",
       "      <td>E</td>\n",
       "      <td>7.60</td>\n",
       "    </tr>\n",
       "    <tr>\n",
       "      <th>105</th>\n",
       "      <td>Fallout 4</td>\n",
       "      <td>PS4</td>\n",
       "      <td>2015</td>\n",
       "      <td>Role-Playing</td>\n",
       "      <td>2.53</td>\n",
       "      <td>3.27</td>\n",
       "      <td>0.24</td>\n",
       "      <td>1.13</td>\n",
       "      <td>87.0</td>\n",
       "      <td>6.5</td>\n",
       "      <td>T</td>\n",
       "      <td>7.17</td>\n",
       "    </tr>\n",
       "    <tr>\n",
       "      <th>143</th>\n",
       "      <td>FIFA 15</td>\n",
       "      <td>PS4</td>\n",
       "      <td>2014</td>\n",
       "      <td>Sports</td>\n",
       "      <td>0.80</td>\n",
       "      <td>4.33</td>\n",
       "      <td>0.05</td>\n",
       "      <td>0.90</td>\n",
       "      <td>82.0</td>\n",
       "      <td>5.7</td>\n",
       "      <td>E</td>\n",
       "      <td>6.08</td>\n",
       "    </tr>\n",
       "    <tr>\n",
       "      <th>154</th>\n",
       "      <td>Destiny</td>\n",
       "      <td>PS4</td>\n",
       "      <td>2014</td>\n",
       "      <td>Shooter</td>\n",
       "      <td>2.49</td>\n",
       "      <td>2.07</td>\n",
       "      <td>0.16</td>\n",
       "      <td>0.92</td>\n",
       "      <td>76.0</td>\n",
       "      <td>6.1</td>\n",
       "      <td>M</td>\n",
       "      <td>5.64</td>\n",
       "    </tr>\n",
       "    <tr>\n",
       "      <th>171</th>\n",
       "      <td>Uncharted 4: A Thief's End</td>\n",
       "      <td>PS4</td>\n",
       "      <td>2016</td>\n",
       "      <td>Shooter</td>\n",
       "      <td>1.85</td>\n",
       "      <td>2.50</td>\n",
       "      <td>0.19</td>\n",
       "      <td>0.85</td>\n",
       "      <td>93.0</td>\n",
       "      <td>7.9</td>\n",
       "      <td>M</td>\n",
       "      <td>5.39</td>\n",
       "    </tr>\n",
       "    <tr>\n",
       "      <th>231</th>\n",
       "      <td>Uncharted: The Nathan Drake Collection</td>\n",
       "      <td>PS4</td>\n",
       "      <td>2015</td>\n",
       "      <td>Action</td>\n",
       "      <td>2.07</td>\n",
       "      <td>1.71</td>\n",
       "      <td>0.08</td>\n",
       "      <td>0.76</td>\n",
       "      <td>86.0</td>\n",
       "      <td>8.1</td>\n",
       "      <td>M</td>\n",
       "      <td>4.62</td>\n",
       "    </tr>\n",
       "    <tr>\n",
       "      <th>245</th>\n",
       "      <td>Call of Duty: Infinite Warfare</td>\n",
       "      <td>PS4</td>\n",
       "      <td>2016</td>\n",
       "      <td>Shooter</td>\n",
       "      <td>1.61</td>\n",
       "      <td>2.00</td>\n",
       "      <td>0.15</td>\n",
       "      <td>0.71</td>\n",
       "      <td>77.0</td>\n",
       "      <td>3.4</td>\n",
       "      <td>M</td>\n",
       "      <td>4.47</td>\n",
       "    </tr>\n",
       "  </tbody>\n",
       "</table>\n",
       "</div>"
      ],
      "text/plain": [
       "                                       name platform  year_of_release  \\\n",
       "42                       Grand Theft Auto V      PS4             2014   \n",
       "77                                  FIFA 16      PS4             2015   \n",
       "92           Call of Duty: Advanced Warfare      PS4             2014   \n",
       "94                                  FIFA 17      PS4             2016   \n",
       "105                               Fallout 4      PS4             2015   \n",
       "143                                 FIFA 15      PS4             2014   \n",
       "154                                 Destiny      PS4             2014   \n",
       "171              Uncharted 4: A Thief's End      PS4             2016   \n",
       "231  Uncharted: The Nathan Drake Collection      PS4             2015   \n",
       "245          Call of Duty: Infinite Warfare      PS4             2016   \n",
       "\n",
       "            genre  na_sales  eu_sales  jp_sales  other_sales  critic_score  \\\n",
       "42         Action      3.96      6.31      0.38         1.97          97.0   \n",
       "77         Sports      1.12      6.12      0.06         1.28          82.0   \n",
       "92        Shooter      2.81      3.48      0.14         1.23          83.0   \n",
       "94         Sports      0.66      5.75      0.08         1.11          85.0   \n",
       "105  Role-Playing      2.53      3.27      0.24         1.13          87.0   \n",
       "143        Sports      0.80      4.33      0.05         0.90          82.0   \n",
       "154       Shooter      2.49      2.07      0.16         0.92          76.0   \n",
       "171       Shooter      1.85      2.50      0.19         0.85          93.0   \n",
       "231        Action      2.07      1.71      0.08         0.76          86.0   \n",
       "245       Shooter      1.61      2.00      0.15         0.71          77.0   \n",
       "\n",
       "     user_score rating  total_sales  \n",
       "42          8.3      M        12.62  \n",
       "77          4.3      E         8.58  \n",
       "92          5.7      M         7.66  \n",
       "94          5.0      E         7.60  \n",
       "105         6.5      T         7.17  \n",
       "143         5.7      E         6.08  \n",
       "154         6.1      M         5.64  \n",
       "171         7.9      M         5.39  \n",
       "231         8.1      M         4.62  \n",
       "245         3.4      M         4.47  "
      ]
     },
     "execution_count": 64,
     "metadata": {},
     "output_type": "execute_result"
    }
   ],
   "source": [
    "ps4 = periodo_dados.query('platform in \"PS4\"')\n",
    "ps4.head(10)"
   ]
  },
  {
   "cell_type": "code",
   "execution_count": 65,
   "id": "9090a983",
   "metadata": {},
   "outputs": [
    {
     "data": {
      "text/plain": [
       "<AxesSubplot:xlabel='critic_score', ylabel='total_sales'>"
      ]
     },
     "execution_count": 65,
     "metadata": {},
     "output_type": "execute_result"
    },
    {
     "data": {
      "image/png": "[encoded data removed]",
      "text/plain": [
       "<Figure size 640x480 with 1 Axes>"
      ]
     },
     "metadata": {},
     "output_type": "display_data"
    }
   ],
   "source": [
    "ps4.plot.scatter(y='total_sales',x='critic_score', alpha=0.5)"
   ]
  },
  {
   "cell_type": "code",
   "execution_count": 66,
   "id": "484c78a0",
   "metadata": {},
   "outputs": [
    {
     "data": {
      "text/plain": [
       "0.40190287811475334"
      ]
     },
     "execution_count": 66,
     "metadata": {},
     "output_type": "execute_result"
    }
   ],
   "source": [
    "critic_corr = ps4['critic_score'].corr(ps4['total_sales'])\n",
    "critic_corr"
   ]
  },
  {
   "cell_type": "code",
   "execution_count": 67,
   "id": "9f40b9d5",
   "metadata": {},
   "outputs": [
    {
     "data": {
      "text/plain": [
       "<AxesSubplot:xlabel='user_score', ylabel='total_sales'>"
      ]
     },
     "execution_count": 67,
     "metadata": {},
     "output_type": "execute_result"
    },
    {
     "data": {
      "image/png": "[encoded data removed]",
      "text/plain": [
       "<Figure size 640x480 with 1 Axes>"
      ]
     },
     "metadata": {},
     "output_type": "display_data"
    }
   ],
   "source": [
    "ps4.plot.scatter(y='total_sales',x='user_score', alpha=.5)"
   ]
  },
  {
   "cell_type": "code",
   "execution_count": 68,
   "id": "b2d2cd48",
   "metadata": {},
   "outputs": [
    {
     "data": {
      "text/plain": [
       "-0.040131589472697356"
      ]
     },
     "execution_count": 68,
     "metadata": {},
     "output_type": "execute_result"
    }
   ],
   "source": [
    "user_corr = ps4['user_score'].corr(ps4['total_sales'])\n",
    "user_corr"
   ]
  },
  {
   "cell_type": "markdown",
   "id": "4b2ecb94",
   "metadata": {},
   "source": [
    "Through the correlation charts we can verify that the column 'critic_score' is positive, that means that the evaluation is very good for the sales. The opposite goes into user_score where the correlation is negative which causes the evaluations to have a negative impact on 'total sales'.\n",
    "\n",
    "We will now analyse the total of sales of some games on PS4 with the same games but on other platforms."
   ]
  },
  {
   "cell_type": "code",
   "execution_count": 69,
   "id": "b498b6e3",
   "metadata": {},
   "outputs": [
    {
     "data": {
      "text/html": [
       "<div>\n",
       "<style scoped>\n",
       "    .dataframe tbody tr th:only-of-type {\n",
       "        vertical-align: middle;\n",
       "    }\n",
       "\n",
       "    .dataframe tbody tr th {\n",
       "        vertical-align: top;\n",
       "    }\n",
       "\n",
       "    .dataframe thead th {\n",
       "        text-align: right;\n",
       "    }\n",
       "</style>\n",
       "<table border=\"1\" class=\"dataframe\">\n",
       "  <thead>\n",
       "    <tr style=\"text-align: right;\">\n",
       "      <th></th>\n",
       "      <th>name</th>\n",
       "      <th>platform</th>\n",
       "      <th>total_sales</th>\n",
       "    </tr>\n",
       "  </thead>\n",
       "  <tbody>\n",
       "    <tr>\n",
       "      <th>0</th>\n",
       "      <td>2014 FIFA World Cup Brazil</td>\n",
       "      <td>PS3</td>\n",
       "      <td>0.61</td>\n",
       "    </tr>\n",
       "    <tr>\n",
       "      <th>1</th>\n",
       "      <td>2014 FIFA World Cup Brazil</td>\n",
       "      <td>X360</td>\n",
       "      <td>0.43</td>\n",
       "    </tr>\n",
       "    <tr>\n",
       "      <th>2</th>\n",
       "      <td>7 Days to Die</td>\n",
       "      <td>PS4</td>\n",
       "      <td>0.14</td>\n",
       "    </tr>\n",
       "    <tr>\n",
       "      <th>3</th>\n",
       "      <td>7 Days to Die</td>\n",
       "      <td>XOne</td>\n",
       "      <td>0.05</td>\n",
       "    </tr>\n",
       "    <tr>\n",
       "      <th>4</th>\n",
       "      <td>7th Dragon III Code: VFD</td>\n",
       "      <td>3DS</td>\n",
       "      <td>0.16</td>\n",
       "    </tr>\n",
       "    <tr>\n",
       "      <th>5</th>\n",
       "      <td>Act of Aggression</td>\n",
       "      <td>PC</td>\n",
       "      <td>0.01</td>\n",
       "    </tr>\n",
       "    <tr>\n",
       "      <th>6</th>\n",
       "      <td>Adventure Time: The Secret of the Nameless Kin...</td>\n",
       "      <td>3DS</td>\n",
       "      <td>0.07</td>\n",
       "    </tr>\n",
       "    <tr>\n",
       "      <th>7</th>\n",
       "      <td>Adventure Time: The Secret of the Nameless Kin...</td>\n",
       "      <td>X360</td>\n",
       "      <td>0.05</td>\n",
       "    </tr>\n",
       "    <tr>\n",
       "      <th>8</th>\n",
       "      <td>Aegis of Earth: Protonovus Assault</td>\n",
       "      <td>PS4</td>\n",
       "      <td>0.02</td>\n",
       "    </tr>\n",
       "    <tr>\n",
       "      <th>9</th>\n",
       "      <td>Aegis of Earth: Protonovus Assault</td>\n",
       "      <td>PSV</td>\n",
       "      <td>0.03</td>\n",
       "    </tr>\n",
       "    <tr>\n",
       "      <th>10</th>\n",
       "      <td>Agatha Christie's The ABC Murders</td>\n",
       "      <td>PS4</td>\n",
       "      <td>0.02</td>\n",
       "    </tr>\n",
       "    <tr>\n",
       "      <th>11</th>\n",
       "      <td>Agatha Christie's The ABC Murders</td>\n",
       "      <td>XOne</td>\n",
       "      <td>0.01</td>\n",
       "    </tr>\n",
       "    <tr>\n",
       "      <th>12</th>\n",
       "      <td>Agatha Christie: The ABC Murders</td>\n",
       "      <td>PC</td>\n",
       "      <td>0.02</td>\n",
       "    </tr>\n",
       "    <tr>\n",
       "      <th>13</th>\n",
       "      <td>Alien: Isolation</td>\n",
       "      <td>PC</td>\n",
       "      <td>0.15</td>\n",
       "    </tr>\n",
       "    <tr>\n",
       "      <th>14</th>\n",
       "      <td>Alien: Isolation</td>\n",
       "      <td>PS3</td>\n",
       "      <td>0.33</td>\n",
       "    </tr>\n",
       "    <tr>\n",
       "      <th>15</th>\n",
       "      <td>Alien: Isolation</td>\n",
       "      <td>PS4</td>\n",
       "      <td>1.12</td>\n",
       "    </tr>\n",
       "    <tr>\n",
       "      <th>16</th>\n",
       "      <td>Alien: Isolation</td>\n",
       "      <td>X360</td>\n",
       "      <td>0.27</td>\n",
       "    </tr>\n",
       "    <tr>\n",
       "      <th>17</th>\n",
       "      <td>Alien: Isolation</td>\n",
       "      <td>XOne</td>\n",
       "      <td>0.50</td>\n",
       "    </tr>\n",
       "    <tr>\n",
       "      <th>18</th>\n",
       "      <td>Anima - Gate of Memories</td>\n",
       "      <td>PS4</td>\n",
       "      <td>0.02</td>\n",
       "    </tr>\n",
       "    <tr>\n",
       "      <th>19</th>\n",
       "      <td>Animal Crossing: Amiibo Festival</td>\n",
       "      <td>WiiU</td>\n",
       "      <td>0.42</td>\n",
       "    </tr>\n",
       "    <tr>\n",
       "      <th>20</th>\n",
       "      <td>Animal Crossing: Happy Home Designer</td>\n",
       "      <td>3DS</td>\n",
       "      <td>3.05</td>\n",
       "    </tr>\n",
       "    <tr>\n",
       "      <th>21</th>\n",
       "      <td>Anno 2205</td>\n",
       "      <td>PC</td>\n",
       "      <td>0.26</td>\n",
       "    </tr>\n",
       "    <tr>\n",
       "      <th>22</th>\n",
       "      <td>Ar Nosurge: Ode to an Unborn Star</td>\n",
       "      <td>PS3</td>\n",
       "      <td>0.16</td>\n",
       "    </tr>\n",
       "    <tr>\n",
       "      <th>23</th>\n",
       "      <td>Arslan: The Warriors of Legend</td>\n",
       "      <td>PS4</td>\n",
       "      <td>0.09</td>\n",
       "    </tr>\n",
       "    <tr>\n",
       "      <th>24</th>\n",
       "      <td>Arslan: The Warriors of Legend</td>\n",
       "      <td>XOne</td>\n",
       "      <td>0.01</td>\n",
       "    </tr>\n",
       "    <tr>\n",
       "      <th>25</th>\n",
       "      <td>Art Academy: Home Studio</td>\n",
       "      <td>WiiU</td>\n",
       "      <td>0.01</td>\n",
       "    </tr>\n",
       "    <tr>\n",
       "      <th>26</th>\n",
       "      <td>Assassin's Creed Chronicles</td>\n",
       "      <td>PS4</td>\n",
       "      <td>0.08</td>\n",
       "    </tr>\n",
       "    <tr>\n",
       "      <th>27</th>\n",
       "      <td>Assassin's Creed Chronicles</td>\n",
       "      <td>PSV</td>\n",
       "      <td>0.07</td>\n",
       "    </tr>\n",
       "    <tr>\n",
       "      <th>28</th>\n",
       "      <td>Assassin's Creed Chronicles</td>\n",
       "      <td>XOne</td>\n",
       "      <td>0.01</td>\n",
       "    </tr>\n",
       "    <tr>\n",
       "      <th>29</th>\n",
       "      <td>Assassin's Creed Chronicles: China</td>\n",
       "      <td>PS4</td>\n",
       "      <td>0.04</td>\n",
       "    </tr>\n",
       "  </tbody>\n",
       "</table>\n",
       "</div>"
      ],
      "text/plain": [
       "                                                 name platform  total_sales\n",
       "0                          2014 FIFA World Cup Brazil      PS3         0.61\n",
       "1                          2014 FIFA World Cup Brazil     X360         0.43\n",
       "2                                       7 Days to Die      PS4         0.14\n",
       "3                                       7 Days to Die     XOne         0.05\n",
       "4                            7th Dragon III Code: VFD      3DS         0.16\n",
       "5                                   Act of Aggression       PC         0.01\n",
       "6   Adventure Time: The Secret of the Nameless Kin...      3DS         0.07\n",
       "7   Adventure Time: The Secret of the Nameless Kin...     X360         0.05\n",
       "8                  Aegis of Earth: Protonovus Assault      PS4         0.02\n",
       "9                  Aegis of Earth: Protonovus Assault      PSV         0.03\n",
       "10                  Agatha Christie's The ABC Murders      PS4         0.02\n",
       "11                  Agatha Christie's The ABC Murders     XOne         0.01\n",
       "12                   Agatha Christie: The ABC Murders       PC         0.02\n",
       "13                                   Alien: Isolation       PC         0.15\n",
       "14                                   Alien: Isolation      PS3         0.33\n",
       "15                                   Alien: Isolation      PS4         1.12\n",
       "16                                   Alien: Isolation     X360         0.27\n",
       "17                                   Alien: Isolation     XOne         0.50\n",
       "18                           Anima - Gate of Memories      PS4         0.02\n",
       "19                   Animal Crossing: Amiibo Festival     WiiU         0.42\n",
       "20               Animal Crossing: Happy Home Designer      3DS         3.05\n",
       "21                                          Anno 2205       PC         0.26\n",
       "22                  Ar Nosurge: Ode to an Unborn Star      PS3         0.16\n",
       "23                     Arslan: The Warriors of Legend      PS4         0.09\n",
       "24                     Arslan: The Warriors of Legend     XOne         0.01\n",
       "25                           Art Academy: Home Studio     WiiU         0.01\n",
       "26                        Assassin's Creed Chronicles      PS4         0.08\n",
       "27                        Assassin's Creed Chronicles      PSV         0.07\n",
       "28                        Assassin's Creed Chronicles     XOne         0.01\n",
       "29                 Assassin's Creed Chronicles: China      PS4         0.04"
      ]
     },
     "execution_count": 69,
     "metadata": {},
     "output_type": "execute_result"
    }
   ],
   "source": [
    "plat_games = periodo_dados.pivot_table(index=['name', 'platform'], values= 'total_sales', aggfunc='sum')\n",
    "plat_games = plat_games.reset_index()\n",
    "plat_games.head(30)"
   ]
  },
  {
   "cell_type": "markdown",
   "id": "948f90db",
   "metadata": {},
   "source": [
    "Through our table we can see that, except for some exceptions, there is a greater tendency in the sale of the same game on the PS4 platform than on other platforms."
   ]
  },
  {
   "cell_type": "markdown",
   "id": "b7c15fb4",
   "metadata": {},
   "source": [
    "# 2.7 General distribution of games by gender"
   ]
  },
  {
   "cell_type": "markdown",
   "id": "c9f47fc2",
   "metadata": {},
   "source": [
    "At this point we will check which genre is more profitable."
   ]
  },
  {
   "cell_type": "code",
   "execution_count": 70,
   "id": "f0d1a550",
   "metadata": {},
   "outputs": [
    {
     "data": {
      "text/plain": [
       "genre\n",
       "Action          146.15\n",
       "Shooter         129.85\n",
       "Sports          107.10\n",
       "Role-Playing     51.59\n",
       "Racing           23.10\n",
       "Misc             16.00\n",
       "Platform         15.74\n",
       "Fighting         13.59\n",
       "Simulation        9.84\n",
       "Adventure         7.20\n",
       "Strategy          2.67\n",
       "Puzzle            1.28\n",
       "Name: total_sales, dtype: float64"
      ]
     },
     "execution_count": 70,
     "metadata": {},
     "output_type": "execute_result"
    }
   ],
   "source": [
    "dist_jogos = periodo_dados.groupby('genre')['total_sales'].sum()\n",
    "dist_jogos = dist_jogos.sort_values(ascending=False)\n",
    "dist_jogos"
   ]
  },
  {
   "cell_type": "markdown",
   "id": "66b4945c",
   "metadata": {},
   "source": [
    "Through our study we're able to verify that the most profitable genre is Action with a total of sales of 146.15, followed by shooter with a total of 129.85. To complete the podium, the Sports genre verifies a total sales of 107.10. The adventure, strategy and puzzle genres are the least profitable with a total sales of 7.2, 2.67 and 1.28 respectively. It should be noted that profit has nothing to do with popularity, this profit may be due to other factors such as the price per game or even the preference of each user."
   ]
  },
  {
   "cell_type": "markdown",
   "id": "a94f914d",
   "metadata": {},
   "source": [
    "# 3. Preferences by region"
   ]
  },
  {
   "cell_type": "markdown",
   "id": "a10c4e63",
   "metadata": {},
   "source": [
    "In this paragraph we will address the sales preferences for each region. We will describe the 5 main platforms in each region as well as the five best-selling genres in each region. We will also check if ESRB ratings affect sales in individual regions."
   ]
  },
  {
   "cell_type": "markdown",
   "id": "00bbafbe",
   "metadata": {},
   "source": [
    "NORTH AMERICA Region"
   ]
  },
  {
   "cell_type": "code",
   "execution_count": 71,
   "id": "8bfbfd44",
   "metadata": {},
   "outputs": [
    {
     "data": {
      "text/plain": [
       "platform\n",
       "PS4     74.99\n",
       "XOne    66.98\n",
       "X360    24.00\n",
       "PS3     16.99\n",
       "WiiU    15.29\n",
       "3DS      8.91\n",
       "PC       6.92\n",
       "PSV      1.97\n",
       "Wii      1.14\n",
       "Name: na_sales, dtype: float64"
      ]
     },
     "execution_count": 71,
     "metadata": {},
     "output_type": "execute_result"
    }
   ],
   "source": [
    "na_quotas= periodo_dados.groupby('platform')['na_sales'].sum()\n",
    "na_quotas = na_quotas.sort_values(ascending=False)\n",
    "na_quotas"
   ]
  },
  {
   "cell_type": "code",
   "execution_count": 72,
   "id": "34047242",
   "metadata": {},
   "outputs": [
    {
     "data": {
      "text/plain": [
       "genre\n",
       "Shooter         60.18\n",
       "Action          58.25\n",
       "Sports          45.95\n",
       "Role-Playing    19.16\n",
       "Misc             8.02\n",
       "Racing           7.74\n",
       "Fighting         5.99\n",
       "Platform         5.97\n",
       "Adventure        2.74\n",
       "Simulation       1.84\n",
       "Strategy         0.82\n",
       "Puzzle           0.53\n",
       "Name: na_sales, dtype: float64"
      ]
     },
     "execution_count": 72,
     "metadata": {},
     "output_type": "execute_result"
    }
   ],
   "source": [
    "na_genero= periodo_dados.groupby('genre')['na_sales'].sum()\n",
    "na_genero = na_genero.sort_values(ascending=False)\n",
    "na_genero"
   ]
  },
  {
   "cell_type": "code",
   "execution_count": 73,
   "id": "68782928",
   "metadata": {},
   "outputs": [
    {
     "data": {
      "text/plain": [
       "rating\n",
       "M    121.17\n",
       "E     70.05\n",
       "T     25.97\n",
       "Name: na_sales, dtype: float64"
      ]
     },
     "execution_count": 73,
     "metadata": {},
     "output_type": "execute_result"
    }
   ],
   "source": [
    "na_rating= periodo_dados.groupby('rating')['na_sales'].sum()\n",
    "na_rating = na_rating.sort_values(ascending=False)\n",
    "na_rating"
   ]
  },
  {
   "cell_type": "markdown",
   "id": "84215cad",
   "metadata": {},
   "source": [
    "EUROPEAN Region"
   ]
  },
  {
   "cell_type": "code",
   "execution_count": 74,
   "id": "66100229",
   "metadata": {},
   "outputs": [
    {
     "data": {
      "text/plain": [
       "platform\n",
       "PS4     102.03\n",
       "XOne     38.18\n",
       "PS3      19.55\n",
       "PC       15.47\n",
       "X360     13.07\n",
       "WiiU     11.04\n",
       "3DS       6.53\n",
       "PSV       2.52\n",
       "Wii       1.22\n",
       "Name: eu_sales, dtype: float64"
      ]
     },
     "execution_count": 74,
     "metadata": {},
     "output_type": "execute_result"
    }
   ],
   "source": [
    "eu_quotas= periodo_dados.groupby('platform')['eu_sales'].sum()\n",
    "eu_quotas = eu_quotas.sort_values(ascending=False)\n",
    "eu_quotas"
   ]
  },
  {
   "cell_type": "code",
   "execution_count": 75,
   "id": "a80ff2a8",
   "metadata": {},
   "outputs": [
    {
     "data": {
      "text/plain": [
       "genre\n",
       "Action          60.86\n",
       "Shooter         49.52\n",
       "Sports          45.16\n",
       "Role-Playing    17.20\n",
       "Racing          11.53\n",
       "Platform         5.73\n",
       "Simulation       5.55\n",
       "Misc             4.97\n",
       "Fighting         3.89\n",
       "Adventure        3.20\n",
       "Strategy         1.60\n",
       "Puzzle           0.40\n",
       "Name: eu_sales, dtype: float64"
      ]
     },
     "execution_count": 75,
     "metadata": {},
     "output_type": "execute_result"
    }
   ],
   "source": [
    "eu_genero= periodo_dados.groupby('genre')['eu_sales'].sum()\n",
    "eu_genero = eu_genero.sort_values(ascending=False)\n",
    "eu_genero"
   ]
  },
  {
   "cell_type": "code",
   "execution_count": 76,
   "id": "25da0246",
   "metadata": {},
   "outputs": [
    {
     "data": {
      "text/plain": [
       "rating\n",
       "M    113.58\n",
       "E     73.34\n",
       "T     22.69\n",
       "Name: eu_sales, dtype: float64"
      ]
     },
     "execution_count": 76,
     "metadata": {},
     "output_type": "execute_result"
    }
   ],
   "source": [
    "eu_rating= periodo_dados.groupby('rating')['eu_sales'].sum()\n",
    "eu_rating = eu_rating.sort_values(ascending=False)\n",
    "eu_rating"
   ]
  },
  {
   "cell_type": "markdown",
   "id": "729cf211",
   "metadata": {},
   "source": [
    "JAPAN"
   ]
  },
  {
   "cell_type": "code",
   "execution_count": 77,
   "id": "669118c9",
   "metadata": {},
   "outputs": [
    {
     "data": {
      "text/plain": [
       "platform\n",
       "3DS     10.03\n",
       "PS4      8.51\n",
       "WiiU     5.78\n",
       "PS3      4.96\n",
       "PSV      4.95\n",
       "XOne     0.27\n",
       "X360     0.07\n",
       "PC       0.00\n",
       "Wii      0.00\n",
       "Name: jp_sales, dtype: float64"
      ]
     },
     "execution_count": 77,
     "metadata": {},
     "output_type": "execute_result"
    }
   ],
   "source": [
    "jp_quotas= periodo_dados.groupby('platform')['jp_sales'].sum()\n",
    "jp_quotas = jp_quotas.sort_values(ascending=False)\n",
    "jp_quotas"
   ]
  },
  {
   "cell_type": "code",
   "execution_count": 78,
   "id": "00e9d129",
   "metadata": {},
   "outputs": [
    {
     "data": {
      "text/plain": [
       "genre\n",
       "Role-Playing    9.93\n",
       "Action          8.80\n",
       "Shooter         4.17\n",
       "Platform        2.55\n",
       "Fighting        2.03\n",
       "Simulation      1.83\n",
       "Sports          1.73\n",
       "Racing          1.50\n",
       "Misc            1.39\n",
       "Adventure       0.35\n",
       "Puzzle          0.26\n",
       "Strategy        0.03\n",
       "Name: jp_sales, dtype: float64"
      ]
     },
     "execution_count": 78,
     "metadata": {},
     "output_type": "execute_result"
    }
   ],
   "source": [
    "jp_genero= periodo_dados.groupby('genre')['jp_sales'].sum()\n",
    "jp_genero = jp_genero.sort_values(ascending=False)\n",
    "jp_genero"
   ]
  },
  {
   "cell_type": "code",
   "execution_count": 79,
   "id": "8ca4660c",
   "metadata": {},
   "outputs": [
    {
     "data": {
      "text/plain": [
       "rating\n",
       "M    13.32\n",
       "T    11.99\n",
       "E     9.26\n",
       "Name: jp_sales, dtype: float64"
      ]
     },
     "execution_count": 79,
     "metadata": {},
     "output_type": "execute_result"
    }
   ],
   "source": [
    "jp_rating= periodo_dados.groupby('rating')['jp_sales'].sum()\n",
    "jp_rating = jp_rating.sort_values(ascending=False)\n",
    "jp_rating"
   ]
  },
  {
   "cell_type": "markdown",
   "id": "2a893a72",
   "metadata": {},
   "source": [
    "Through our study we can conclude that:\n",
    "\n",
    "- The most popular platforms in North America are: PS4, XOne, X360, PS3 and Wiiu.\n",
    "- The most popular platforms in Europe are: PS4, XOne, PS3, PC and X360.\n",
    "- The most popular platforms in Japan are: 3DS, PS4, Wiiu, PS3 and PSV.\n",
    "\n",
    "The two most popular platforms in North America and Europe are the same, PS4 and XOne, the same does not happen in Japan where the most popular platform is 3DS followed by PS4.\n",
    "\n",
    "- The most popular genres in North America are: Shooter, Action, Sports, Role-Playing and Misc.\n",
    "- The most popular genres in Europe are: Action, Shooter, Sports, Role-Playing and Racing.\n",
    "- The most popular genres in Japan are: Role-Playing, Action, Shooter, Platform and Fighting.\n",
    "\n",
    "We can also verify that ESRB ratings affect sales in each region. North America and Europe verify the most popular genus M followed by gender E and T. In Japan there is a change in relation to North America and Japan. The M rating remains the most popular among users with only a change of preference between E and T. In the case of Japan there is a greater preference of T over E."
   ]
  },
  {
   "cell_type": "markdown",
   "id": "5acba7d3",
   "metadata": {},
   "source": [
    "# 4. Testing hypotheses"
   ]
  },
  {
   "cell_type": "markdown",
   "id": "c66d3479",
   "metadata": {},
   "source": [
    "In this chapter we will test some hypotheses.\n",
    "\n",
    "First, we will test the hypothesis on the average ratings of users of Xbox One and PC platforms:\n",
    "\n",
    "- Hypothesis null: The average ratings of users of Xbox One and PC platforms are the same.\n",
    "\n",
    "- Alternative hypothesis: The average ratings of users of Xbox One and PC platforms are different."
   ]
  },
  {
   "cell_type": "code",
   "execution_count": 80,
   "id": "c869997f",
   "metadata": {},
   "outputs": [
    {
     "name": "stdout",
     "output_type": "stream",
     "text": [
      "We cannot reject the null hypothesis\n",
      "p-value: 0.11601398086668832\n"
     ]
    }
   ],
   "source": [
    "alpha = 0.05\n",
    "sample_1 = periodo_dados[periodo_dados['platform'].str.contains('XOne')]\n",
    "sample_2 = periodo_dados[periodo_dados['platform'].str.contains('PC')]\n",
    "results = st.ttest_ind(sample_1['user_score'], sample_2['user_score'], equal_var=False, nan_policy='omit')\n",
    "\n",
    "\n",
    "if results.pvalue < alpha:\n",
    "    print(\"We reject the null hypothesis\")\n",
    "else:\n",
    "    print(\"We cannot reject the null hypothesis\")\n",
    "    \n",
    "print('p-value:', results.pvalue)"
   ]
  },
  {
   "cell_type": "code",
   "execution_count": 81,
   "id": "a0456022",
   "metadata": {},
   "outputs": [
    {
     "data": {
      "image/png": "[encoded data removed]",
      "text/plain": [
       "<Figure size 640x480 with 1 Axes>"
      ]
     },
     "metadata": {},
     "output_type": "display_data"
    }
   ],
   "source": [
    "sns.kdeplot(results);"
   ]
  },
  {
   "cell_type": "markdown",
   "id": "9a4ea4a0",
   "metadata": {},
   "source": [
    "The first hypothesis tested tells us that we cannot reject the null hypothesis, that is, there is no significant difference between the averages of users of the Xbox One and PC platforms."
   ]
  },
  {
   "cell_type": "markdown",
   "id": "3da95d54",
   "metadata": {},
   "source": [
    "The second hypothesis to be tested will be about the average user ratings for the Sports and Action genres are the same.\n",
    "\n",
    "- Nil hypothesis : The average ratings for the Action and Sports genres are the same.\n",
    "\n",
    "- Alternative hypothesis : The average ratings for the Action and Sports genres are different."
   ]
  },
  {
   "cell_type": "code",
   "execution_count": 82,
   "id": "acb55193",
   "metadata": {},
   "outputs": [
    {
     "name": "stdout",
     "output_type": "stream",
     "text": [
      "We reject the null hypothesis\n",
      "p-value: 1.1825550382644557e-14\n"
     ]
    }
   ],
   "source": [
    "alpha = 0.05\n",
    "sample_1 = periodo_dados[periodo_dados['genre'].str.contains('Action')]\n",
    "sample_2 = periodo_dados[periodo_dados['genre'].str.contains('Sports')]\n",
    "results = st.ttest_ind(sample_1['user_score'], sample_2['user_score'], equal_var=False, nan_policy='omit')\n",
    "\n",
    "\n",
    "if results.pvalue < alpha:\n",
    "    print(\"We reject the null hypothesis\")\n",
    "else:\n",
    "    print(\"We cannot reject the null hypothesis\")\n",
    "    \n",
    "print('p-value:', results.pvalue)"
   ]
  },
  {
   "cell_type": "code",
   "execution_count": 83,
   "id": "74467358",
   "metadata": {},
   "outputs": [
    {
     "data": {
      "image/png": "[encoded data removed]",
      "text/plain": [
       "<Figure size 640x480 with 1 Axes>"
      ]
     },
     "metadata": {},
     "output_type": "display_data"
    }
   ],
   "source": [
    "sns.kdeplot(results);"
   ]
  },
  {
   "cell_type": "markdown",
   "id": "514fa60b",
   "metadata": {},
   "source": [
    "In this second test, we reject the null hypothesis, that is, there is a significant difference between the average ratings of users for the genres that were tested, thus being different."
   ]
  },
  {
   "cell_type": "markdown",
   "id": "9849696c",
   "metadata": {},
   "source": [
    "# 5. Conclusion "
   ]
  },
  {
   "cell_type": "markdown",
   "id": "cf2c65d5",
   "metadata": {},
   "source": [
    "In this study we had the goal of identifying patterns that determine whether a game is successful or not.\n",
    "\n",
    "- Having said that, I started by loading the data on the table provided and analysing some types of data and if there were some missing values. In a first analysis I was able to verify that our table contained missing data in several columns, which made it necessary to make some substitution in these values. The columns 'name', 'year_of_release','critic_score','user_score' and 'rating' needed this replacement.\n",
    "\n",
    "- After all the processes in replacing the missing values I found it necessary to adjust the data type in two columns. The column 'year_of_release' presented data of type float and 'critic_score' object values, I thought it would make more sense to replace for integer and float type respectively. With these measures, he concludes that he could perform a more precise and detailed analysis of the data.\n",
    "\n",
    "- After all the data replaced I was able to start my analysis through various processes. I started by analysing the number of games per year, and then I could conclude that the 80 and 90 generations were little significant in numbers of games, so there was an exponential growth from 2000 to 2008 where the peak of sales was reached, and then there was a gradual reduction over the years. As I mentioned in this part of the study, this decline could be due to the change in game technologies or even the costs of their development. However, we cannot draw specific conclusions about why there was this decline.\n",
    "\n",
    "- I identified the 3 most popular platforms in terms of sales and found that all of them had a level of popularity on the rise up to about half of the first period of time under study, which did not happen in this second part. One of the possibilities could be the fact that new platforms are launched on the market, which would affect sales of older versions.\n",
    "\n",
    "- I made a data collection for a certain period so I can check the total sales per platform. The top 3 leaders were PS4, Xbox xOne and PS3. I found that sales of all platforms are declining, hoping that the sales of these 3 platforms continue to decline.\n",
    "\n",
    "- I checked the global sale of games divided by platform through a boxplot. The differences are significant in the total number of sales because the medians are different and the moustaches are different. As for average sales, the Wii platform obtained the highest average while PSV was the platform with the least game units sold.\n",
    "\n",
    "- Correlation graphics were useful to check if there would be a significant influence on the actions of users and professionals in the sales of a popular platform (PS4 was chosen). I could verify that in the case of critic_score the correlation was positive, which positively influenced the sale while the opposite occurred in user_score. It is important to consider that the correlation does not imply causality. That is, a high rating of criticism or user may be associated with higher sales, but does not necessarily cause higher sales.\n",
    "\n",
    "- In the general distribution of games by genre, see that the most profitable genres were Action, Shooter and Sports and that the least profitable were the Puzzle, Adventure and Strategy genres.\n",
    "\n",
    "- I analysed user preferences by region and concluded that there are similarities in platform sales of all regions such as in the ESRB game genre and classifications.\n",
    "\n",
    "- Finally I did some hypothesis tests. One of them was to test the hypothesis about the average ratings of users of Xbox One and PC platforms, the other was to check if the average ratings for the Action and Sports genres were different. In the first test the result was that the average ratings of users of Xbox One and PC platforms are the same. In the second case there is a significant difference between the average ratings of users for the genres that have been tested being thus different.\n",
    "\n",
    "To top it off we can then say that PS4 despite being in a sales decline continues to lead, being the most popular platform, which makes it the most viable platform to bet on marketing campaigns. The Action, Sports, Shooting and Role-Playing genres are also the most profitable."
   ]
  }
 ],
 "metadata": {
  "kernelspec": {
   "display_name": "Python 3 (ipykernel)",
   "language": "python",
   "name": "python3"
  },
  "language_info": {
   "codemirror_mode": {
    "name": "ipython",
    "version": 3
   },
   "file_extension": ".py",
   "mimetype": "text/x-python",
   "name": "python",
   "nbconvert_exporter": "python",
   "pygments_lexer": "ipython3",
   "version": "3.9.13"
  },
  "toc": {
   "base_numbering": 1,
   "nav_menu": {},
   "number_sections": true,
   "sideBar": true,
   "skip_h1_title": true,
   "title_cell": "Table of Contents",
   "title_sidebar": "Contents",
   "toc_cell": false,
   "toc_position": {},
   "toc_section_display": true,
   "toc_window_display": false
  }
 },
 "nbformat": 4,
 "nbformat_minor": 5
}
